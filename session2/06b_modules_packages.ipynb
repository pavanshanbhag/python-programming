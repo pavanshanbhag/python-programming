{
 "cells": [
  {
   "cell_type": "markdown",
   "id": "4f31775f-51c7-4201-b268-4f35609a1d78",
   "metadata": {},
   "source": [
    "# Modules in Python\n",
    "\n",
    "A module in Python is a file containing Python definitions and statements. It serves several purposes:\n",
    "\n",
    "- **Definition:** A module can define functions, classes, variables, and any valid Python statement.\n",
    "\n",
    "- **Organization:** It provides a mechanism for logically organizing related Python code.\n",
    "\n",
    "- **Reusability:** Modules enable writing reusable code that can be shared and imported into other scripts.\n",
    "\n",
    "- **Importing:** Definitions inside a module can be imported and used in other Python scripts.\n",
    "\n",
    "## Importing a Module\n",
    "\n",
    "To use a module in Python, you can import it using the `import` statement. Here's a simple example:\n",
    "\n",
    "```python\n",
    "# Example Module: my_module.py\n",
    "\n",
    "def greet(name):\n",
    "    return f\"Hello, {name}!\"\n"
   ]
  },
  {
   "cell_type": "code",
   "execution_count": null,
   "id": "b5b6eccd-6378-402e-91ae-62d04aa9798b",
   "metadata": {},
   "outputs": [],
   "source": [
    "# Importing the Module in another script\n",
    "\n",
    "import my_module\n",
    "\n",
    "from my_module import greet\n",
    "\n",
    "result = my_module.greet(\"Alice\")\n",
    "print(result)\n"
   ]
  },
  {
   "cell_type": "markdown",
   "id": "113dbef5-c109-46c9-b575-b08af0a2a9e0",
   "metadata": {},
   "source": [
    "In this example, the greet function from the my_module module is imported and used in another script.\n",
    "\n",
    "Modules are a fundamental part of Python programming, facilitating code organization, reuse, and maintainabilit"
   ]
  },
  {
   "cell_type": "markdown",
   "id": "98a2d1b6-bfa3-43fe-ac7b-106ef06f35ce",
   "metadata": {},
   "source": [
    "# Packages\n",
    "A package is a way of organizing related modules into a single directory hierarchy. \n",
    "It helps in managing large codebases and avoiding naming conflicts.\n",
    "\n",
    "## Key Features of Packages\r\n",
    "\r\n",
    "- **Organization:** A package is an organized collection of related modules that serve a common purpose.\r\n",
    "\r\n",
    "- **Namespace Structure:** Packages help structure Python's module namespace hierarchically using dotted notation. For example, a module named `module1` inside a package named `mypackage` is accessed as `mypackage.module1`.\r\n",
    "\r\n",
    "- **Avoiding Name Collisions:** Packages help avoid collision between module names, providing a way to organize code and prevent naming conflicts.\r\n",
    "\r\n",
    "- **Implementation:** Packages are implemented as directories containing a special file named `__init__.py`. This file can be empty but signals that the directory should be treated as a package.\r\n"
   ]
  },
  {
   "cell_type": "code",
   "execution_count": null,
   "id": "af8332af-24db-4a00-9279-195d43af7b88",
   "metadata": {},
   "outputs": [],
   "source": []
  }
 ],
 "metadata": {
  "kernelspec": {
   "display_name": "Python 3 (ipykernel)",
   "language": "python",
   "name": "python3"
  },
  "language_info": {
   "codemirror_mode": {
    "name": "ipython",
    "version": 3
   },
   "file_extension": ".py",
   "mimetype": "text/x-python",
   "name": "python",
   "nbconvert_exporter": "python",
   "pygments_lexer": "ipython3",
   "version": "3.12.2"
  }
 },
 "nbformat": 4,
 "nbformat_minor": 5
}
