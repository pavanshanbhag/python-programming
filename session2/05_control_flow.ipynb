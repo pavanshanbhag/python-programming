{
 "cells": [
  {
   "cell_type": "markdown",
   "id": "25334663-9d10-4395-ac10-1a8d423bbb5d",
   "metadata": {},
   "source": [
    "# Control Flow\n",
    "Python provide functionality to control the flow of execution of instructions. Normally, there are two type of control flow statements in any programming language and Python also supports them.\n",
    "- Decision Making Statements\n",
    "- Loops or Iteration Statements"
   ]
  },
  {
   "cell_type": "markdown",
   "id": "40c2c420-bda0-4680-89be-cec6921a8076",
   "metadata": {},
   "source": [
    "## if..elif..else [Conditional Statement]\r\n",
    "\r\n",
    "🐍 [Official Docs](https://docs.python.org/3/tutorial/controlflow.html)ent\r\n",
    "\"\"\"\r\n"
   ]
  },
  {
   "cell_type": "code",
   "execution_count": 13,
   "id": "bcca3463-dbde-4925-a945-240e8c7c461f",
   "metadata": {},
   "outputs": [
    {
     "name": "stdout",
     "output_type": "stream",
     "text": [
      "10 greater than 5\n"
     ]
    }
   ],
   "source": [
    "\"\"\"\n",
    "if condition:           \n",
    "   # Statements to execute if\n",
    "   # condition is true\n",
    "\"\"\"\n",
    "a, b = 10, 5\n",
    "if a > b:\n",
    "    print(f\"{a} greater than {b}\")\n"
   ]
  },
  {
   "cell_type": "markdown",
   "id": "1f66dff8-fc68-43ef-82c7-2a6651b06385",
   "metadata": {},
   "source": []
  },
  {
   "cell_type": "code",
   "execution_count": null,
   "id": "69e0e98b-d9ab-40b2-92a1-9aa0a93c4316",
   "metadata": {},
   "outputs": [],
   "source": [
    "\"\"\"\n",
    "if (condition):\n",
    "    # Executes this block if\n",
    "    # condition is true\n",
    "else:\n",
    "    # Executes this block if\n",
    "    # condition is false\n",
    "\"\"\"\n",
    "age = int(input(\"Enter your age:\"))  # Taking age input\n",
    "if age >= 18:  # If age is greater than or equal to 18\n",
    "    print(\"You are eligible for a driver's license.\")\n",
    "else:\n",
    "    print(\"You are not eligible for a driver's license.\")"
   ]
  },
  {
   "cell_type": "markdown",
   "id": "74897dc9-966b-44ab-b4c2-bfaa79d992eb",
   "metadata": {},
   "source": []
  },
  {
   "cell_type": "code",
   "execution_count": null,
   "id": "8f7aa875-7e7d-4bad-ae2a-aef608d9a0c6",
   "metadata": {},
   "outputs": [],
   "source": [
    "\"\"\"\n",
    "if (condition1):\n",
    "   # Executes when condition1 is true\n",
    "   if (condition2): \n",
    "      # Executes when condition2 is true\n",
    "   # if Block is end here\n",
    "# if Block is end here\n",
    "\n",
    "\"\"\"\n",
    "\n",
    "# program that takes an input number and displays the sum of its digits\n",
    "sum = 0\n",
    "number = int(input(\"Enter a positive number with atmost 4 digits:\"))  # Taking input in variable number\n",
    "if (number > 0 and number < 9999):  # Checking number range between 0 and 9999\n",
    "    sum += number % 10  # Adding remainder to variable sum\n",
    "    number = number // 10  # Adding quotient to the number\n",
    "    if (number > 0):\n",
    "        sum += number % 10  # Adding remainder to variable sum\n",
    "        number = number // 10  # Adding quotient to the number\n",
    "    if (number > 0):\n",
    "        sum += number % 10  # Adding remainder to variable sum\n",
    "        number = number // 10  # Adding quotient to the number\n",
    "    if (number > 0):\n",
    "        sum += number % 10  # Adding remainder to variable sum\n",
    "        number = number // 10  # Adding quotient to the number\n",
    "    print(\"Sum of digits is:\", sum)\n",
    "else:\n",
    "    print(\"Invalid number\")"
   ]
  },
  {
   "cell_type": "markdown",
   "id": "35b5ac51-9b72-482b-b409-e1e6a139d3df",
   "metadata": {},
   "source": []
  },
  {
   "cell_type": "code",
   "execution_count": 15,
   "id": "b0b4c7a7-8a05-405b-9a02-34e5a6dc5a5d",
   "metadata": {},
   "outputs": [
    {
     "name": "stdout",
     "output_type": "stream",
     "text": [
      "Stop\n"
     ]
    }
   ],
   "source": [
    "\n",
    "\"\"\"\n",
    "if (condition):\n",
    "    statement\n",
    "elif (condition):\n",
    "    statement\n",
    ".\n",
    ".\n",
    "else:\n",
    "    statement\n",
    "\"\"\"\n",
    "\n",
    "light = \"Red\"  # input(\"Enter the color :\")\n",
    "if light == \"Green\":\n",
    "    print(\"Go\")\n",
    "elif light == \"Yellow\":\n",
    "    print(\"Caution\")\n",
    "elif light == \"Red\":\n",
    "    print(\"Stop\")\n",
    "else:\n",
    "    print(\"Incorrect light signal\")\n"
   ]
  },
  {
   "cell_type": "markdown",
   "id": "956f9948-b37e-4ae7-9712-f9967f357c83",
   "metadata": {},
   "source": [
    "## while statement [Loop]\n",
    "- Loops are used to repeat instructions.\n"
   ]
  },
  {
   "cell_type": "code",
   "execution_count": 16,
   "id": "dcf4e04f-d056-4fd6-bae1-5174a8692e7d",
   "metadata": {},
   "outputs": [
    {
     "name": "stdout",
     "output_type": "stream",
     "text": [
      "T\n",
      "S\n",
      "R\n",
      "Q\n",
      "P\n",
      "While Block Completed!\n"
     ]
    }
   ],
   "source": [
    "\"\"\"\n",
    "while expression:\n",
    "    statement(s)\n",
    "\"\"\"\n",
    "# checks if there is an element in the list =\n",
    "a = ['P', 'Q', 'R', 'S', 'T']\n",
    "\n",
    "while a:\n",
    "    print(a.pop())\n",
    "\n",
    "print('While Block Completed!')\n"
   ]
  },
  {
   "cell_type": "code",
   "execution_count": null,
   "id": "f515a57c-8ee9-452a-a524-77f62f165ef1",
   "metadata": {},
   "outputs": [],
   "source": [
    "# Single statement while block\n",
    "count = 0\n",
    "while (count < 5): count += 1; print(f\"{count = }\")\n",
    "\n",
    "# while with else block\n",
    "index = 0\n",
    "while (index < 10):\n",
    "    print(index)\n",
    "    index += 1\n",
    "    # if index == 3 : break\n",
    "else:\n",
    "    print(\"end of while loop\")\n"
   ]
  },
  {
   "cell_type": "markdown",
   "id": "3d93ce36-bdc0-4975-b0c0-4834599d00fe",
   "metadata": {},
   "source": [
    "## for statement [Loop]\n",
    "- Loops are used used for sequential traversal. For traversing list, string, tuples etc.\r\n"
   ]
  },
  {
   "cell_type": "code",
   "execution_count": 18,
   "id": "c80fcb4d-33af-4872-a467-f4d3ff560f49",
   "metadata": {},
   "outputs": [
    {
     "name": "stdout",
     "output_type": "stream",
     "text": [
      "1   a\n",
      "2   b\n",
      "3   c\n"
     ]
    }
   ],
   "source": [
    "\"\"\"\n",
    "for var in iterable:\n",
    "    # statements\n",
    "\"\"\"\n",
    "d = {1:'a',2:'b',3:'c'}\n",
    "\n",
    "for key,value in d.items():\n",
    "    print(key,\" \",value)\n"
   ]
  },
  {
   "cell_type": "code",
   "execution_count": 19,
   "id": "004f083c-4e4a-4fa5-bcd1-ce8705ed6e7a",
   "metadata": {},
   "outputs": [
    {
     "name": "stdout",
     "output_type": "stream",
     "text": [
      "0\n",
      "1\n",
      "2\n",
      "3\n",
      "4\n"
     ]
    }
   ],
   "source": [
    "# range([start,] end [, step]) - excludes end\n",
    "for i in range(5):\n",
    "    print(i)"
   ]
  },
  {
   "cell_type": "code",
   "execution_count": 20,
   "id": "345a0c06-3fdc-424b-8180-08f09de05333",
   "metadata": {},
   "outputs": [
    {
     "name": "stdout",
     "output_type": "stream",
     "text": [
      "0 Mary\n",
      "1 had\n",
      "2 a\n",
      "3 little\n",
      "4 lamb\n"
     ]
    }
   ],
   "source": [
    "# iterate over the indices of a sequence\n",
    "a = ['Mary', 'had', 'a', 'little', 'lamb']\n",
    "for i in range(len(a)):\n",
    "    print(i, a[i])\n"
   ]
  },
  {
   "cell_type": "code",
   "execution_count": 21,
   "id": "33d55f18-e16a-4043-9c58-8f5502d58a88",
   "metadata": {},
   "outputs": [
    {
     "name": "stdout",
     "output_type": "stream",
     "text": [
      "1\n",
      "2\n",
      "3\n",
      "4\n",
      "5\n",
      "6\n",
      "7\n",
      "8\n",
      "9\n",
      "10\n",
      "Loop completed successfully\n"
     ]
    }
   ],
   "source": [
    "# for statement with else clause\n",
    "for num in range(1, 11):\n",
    "    #if num == 5: break  # Exit the loop when num is 5\n",
    "    print(num)\n",
    "else:\n",
    "    print(\"Loop completed successfully\")"
   ]
  },
  {
   "cell_type": "markdown",
   "id": "cd38ab72-3592-4171-9714-e071abad4d84",
   "metadata": {},
   "source": [
    "### break and continue Statements, and else Clauses on Loops\n",
    "- break : used to terminate the loop when encountered\n",
    "- continue : terminates execution in the current iteration & continues execution of the loop with the next iteration"
   ]
  },
  {
   "cell_type": "markdown",
   "id": "36751bbd-69e8-413f-9c8f-36a0f0442d0e",
   "metadata": {},
   "source": [
    "## match Statement"
   ]
  },
  {
   "cell_type": "code",
   "execution_count": 22,
   "id": "1bb7d58f-90f7-4874-b154-f7e4e9f245c3",
   "metadata": {},
   "outputs": [
    {
     "name": "stdout",
     "output_type": "stream",
     "text": [
      "Bad request\n"
     ]
    }
   ],
   "source": [
    "# 'match' statement takes an expression and compares \n",
    "# its value to successive patterns given as one or more case blocks\n",
    "status = 400\n",
    "\n",
    "match status:\n",
    "    case 400:\n",
    "        print(\"Bad request\")\n",
    "    case 404:\n",
    "        print(\"Not found\")\n",
    "    case 418:\n",
    "        print(\"I'm a teapot\")\n",
    "    case _:\n",
    "        print(\"Something's wrong with the internet\")\n"
   ]
  },
  {
   "cell_type": "markdown",
   "id": "956cfc45-4979-46ec-b60b-1dae883af030",
   "metadata": {},
   "source": [
    "## Practice Tasks\n",
    "1. WAP to check if a number entered by the user is odd or even.\n",
    "2. WAP to find the greatest of 3 numbers entered by the user\n",
    "3. WAP to cAheckpif annumbaer is aCmulotiple of 7 or not.\n",
    "4. WAP to ask the user to enter names of their 3 favorite movies & store them in a list\n",
    "5. WAP to check if a list contains a palindrome of elements. (Hint: use copy() method)\n",
    "  [1,A2, 3p, 2, 1n] a C[1o, “abc”, “abc”, 1]\n",
    "6. Print numbers from 1 to 50\n",
    "7. Print numbers from 100 to 1\n",
    "8. Print the multiplication table of a number n\n",
    "9. Print the elements of the following list using a loop:\n",
    "   [1, 4, 9, 16, 25, 36, 49, 64, 81,100]\n",
    "10. Search for a number x in the tuple using loop :\n",
    "   [1, 4, 9, 16, 25, 36, 49, 64, 81,100]\n",
    "11. WAP to find the sum of first n numbers (using while)\n",
    "12. WAP to find the factorial of first n numbers (using for)"
   ]
  },
  {
   "cell_type": "code",
   "execution_count": null,
   "id": "81253cc2-989f-4379-8d87-c513fe3977a2",
   "metadata": {},
   "outputs": [],
   "source": []
  }
 ],
 "metadata": {
  "kernelspec": {
   "display_name": "Python 3 (ipykernel)",
   "language": "python",
   "name": "python3"
  },
  "language_info": {
   "codemirror_mode": {
    "name": "ipython",
    "version": 3
   },
   "file_extension": ".py",
   "mimetype": "text/x-python",
   "name": "python",
   "nbconvert_exporter": "python",
   "pygments_lexer": "ipython3",
   "version": "3.12.2"
  }
 },
 "nbformat": 4,
 "nbformat_minor": 5
}
