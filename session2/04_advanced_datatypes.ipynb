{
 "cells": [
  {
   "cell_type": "markdown",
   "id": "6259ae81-a35e-474d-88d3-2745f519bf2f",
   "metadata": {
    "jp-MarkdownHeadingCollapsed": true
   },
   "source": [
    "## Objects\n",
    "\n",
    "\n",
    "### What are Objects?\n",
    "\n",
    "- Entities created by Python.\n",
    "    - They have state (data).\n",
    "    - They have methods (functionality).\n",
    "- They often represent real-world things.\n",
    "\n",
    "![CAR OBJECT](../static/car_object.png)"
   ]
  },
  {
   "cell_type": "markdown",
   "id": "9d552bbe-e4e0-4341-b705-2226d255947f",
   "metadata": {},
   "source": [
    "### Integers as Objects\n",
    "\n",
    "- An `int` is an object.\n",
    "- It has state: the value of the integer.\n",
    "- It also has functionality:\n",
    "  - Knows how to add itself to another integer.\n",
    "    - `(10).__add__(10)` results in `20`.\n",
    "  - An integer object has the method `__add__` used to implement addition.\n",
    "  - Knows how to represent itself as a string (e.g., for visual output).\n",
    "utput).\r\n"
   ]
  },
  {
   "cell_type": "markdown",
   "id": "484cfb81-f048-4288-b5f5-1a1828b8a026",
   "metadata": {},
   "source": [
    "### Float Numbers as Objects\r\n",
    "\r\n",
    "- Float numbers are objects too.\r\n",
    "- **State:** Value\r\n",
    "- **Functionality:**\r\n",
    "  - **Add:** They have functionality t o add.\r\n",
    "  - Other functionality as well, for example:\r\n",
    "    - `(0.125).as_integer_ratio()` results in `1, 8`.\r\n"
   ]
  },
  {
   "cell_type": "markdown",
   "id": "e402b590-0b97-4e2d-a19f-aad2758457f7",
   "metadata": {},
   "source": [
    "### Everything in Python is an Object\n",
    "\n",
    "- Any data type in Python is an object.\n",
    "- It has:\n",
    "  - **State**\n",
    "  - **Functionality**\n",
    "\n",
    "**Attributes:**\n",
    "- Attributes encompass both state and functionality.\n",
    "- Some attributes are for state, and some are for functionality.\n"
   ]
  },
  {
   "cell_type": "markdown",
   "id": "e51dcc7b-0946-45d9-8cea-0b9b06f61028",
   "metadata": {},
   "source": [
    "### Accessing Object Attributes\n",
    "\n",
    "If an object has attributes, we can access them using **dot notation**:\n",
    "\n",
    "- `car.brand` accesses the `brand` attribute of the `car` object.\n",
    "- `car.model` accesses the `model` attribute of the `car` object.\n",
    "\n",
    "For attributes that represent functionality, we usually have to call the attribute to perform the action:\n",
    "- `car.accelerate(10, \"mph\")` calls the `accelerate` method of the `car` object with parameters `10` and `\"mph\"`.\n",
    "- `(10).__add__(100)` calls the `add` method on the integer `10` with the argument `100`.\r\n"
   ]
  },
  {
   "cell_type": "markdown",
   "id": "08761bcc-6050-4fa7-be9e-bfeea8b87a83",
   "metadata": {
    "jp-MarkdownHeadingCollapsed": true
   },
   "source": [
    "## Mutability in Python Objects\r\n",
    "\r\n",
    "- An object is **mutable** if its internal state can be changed, meaning one or more data attributes can be modified.\r\n",
    "\r\n",
    "- An object is **immutable** if its internal state cannot be changed, and the state of the object is \"set in stone.\"\r\n",
    "\r\n",
    "In Python, many data types are **immutable**:\r\n",
    "\r\n",
    "- Integers\r\n",
    "- Floats\r\n",
    "- Booleans\r\n",
    "- Strings\r\n",
    "- ...\r\n",
    "\r\n",
    "While some are **mutable**:\r\n",
    "\r\n",
    "- Lists\r\n",
    "- Dictionaries\r\n",
    "- Sets\r\n",
    "- ...\r\n"
   ]
  },
  {
   "cell_type": "code",
   "execution_count": null,
   "id": "aace221a-d450-43b7-92a8-3f984916be92",
   "metadata": {},
   "outputs": [],
   "source": [
    "# Immutable Example: Integer\n",
    "immutable_int = 5\n",
    "print(\"Original Integer:\", immutable_int)\n",
    "\n",
    "# Attempting to modify the integer (creates a new object)\n",
    "\n",
    "immutable_int += 2\n",
    "print(\"Modified Integer:\", immutable_int)  # Prints 7\n",
    "# When we use immutable_int += 2, it appears like we are modifying immutable_int, \n",
    "# but we are, in fact, creating a new integer object (7) and \n",
    "# updating the variable to reference this new object."
   ]
  },
  {
   "cell_type": "code",
   "execution_count": null,
   "id": "6e3c6f79-7ba9-466a-bcfb-ed2e8efe91e1",
   "metadata": {},
   "outputs": [],
   "source": [
    "pi = 3.1415\n",
    "radius = 1\n",
    "circle = 2*pi*radius\n",
    "print(circle)\n",
    "radius = 2\n",
    "print(radius)"
   ]
  },
  {
   "cell_type": "markdown",
   "id": "045a57ee-6441-4bc6-a16b-5006b7ebcb86",
   "metadata": {},
   "source": [
    "## Sequences in Python\r\n",
    "\r\n",
    "- Sequences are ordered collections of objects.\r\n",
    "- They have a first element, a second element, and so on—sometimes referred to as sequential order.\r\n",
    "\r\n",
    "- We can index elements in sequences using integers, counting them one by one.\r\n",
    "- In Python (and most other programming languages), numbering starts at 0.\r\n",
    "\r\n",
    "- Like everything in Python, sequences are objects.\r\n",
    "- They happen to be container-type objects that contain other\n",
    "\n",
    "- sequence length is usually finite but not all sequence types are objects.\r\n"
   ]
  },
  {
   "cell_type": "markdown",
   "id": "cacd03eb-c075-4308-9296-724ebd012cb5",
   "metadata": {},
   "source": [
    "### Sequence Types in Python\n",
    "\n",
    "- Certain sequence types can only contain objects that are all of the same type.\n",
    "  - These are known as `homogeneous` sequence types.\n",
    "\n",
    "- Other types of sequences may contain objects that are of different types.\n",
    "  - These are referred to as `heterogeneous` sequence types.\n"
   ]
  },
  {
   "cell_type": "markdown",
   "id": "f7d264e1-9d53-4470-838c-b397ea84643f",
   "metadata": {},
   "source": [
    "- **Lists:** Mutable heterogeneous sequence type\r\n",
    "- **Tuples:** Immutable heterogeneous sequence type\r\n",
    "- **Strings:** Immutable homogeneous sequence type"
   ]
  },
  {
   "cell_type": "markdown",
   "id": "50d038bd-fa1b-4707-aebc-d3c7586704f9",
   "metadata": {
    "jp-MarkdownHeadingCollapsed": true
   },
   "source": [
    "### Lists\n",
    "A built-in data type that stores set of values\r",
    "The Python `list` is a mutable heterogeneous sequence type.\n",
    "\n"
   ]
  },
  {
   "cell_type": "markdown",
   "id": "674bb651-5640-4cd2-a7c5-386d4c911b3a",
   "metadata": {},
   "source": [
    "#### Creating a List\n",
    "\n",
    "We can create literal lists using square brackets (`[]`) or using `list()`."
   ]
  },
  {
   "cell_type": "code",
   "execution_count": null,
   "id": "943e3172-eb61-4a2e-b8bc-3a58270d2198",
   "metadata": {},
   "outputs": [],
   "source": [
    "my_list = []\n",
    "my_list = list()"
   ]
  },
  {
   "cell_type": "code",
   "execution_count": null,
   "id": "a8b5ab9b-b3fd-4e8f-97a1-00dab4a26f74",
   "metadata": {},
   "outputs": [],
   "source": [
    "type(my_list)"
   ]
  },
  {
   "cell_type": "markdown",
   "id": "b8d8bc32-8286-4ef7-825b-6e3f94b2c4c1",
   "metadata": {},
   "source": [
    "A list contains a list of elements, such as strings, integers, objects or a mixture of types. "
   ]
  },
  {
   "cell_type": "code",
   "execution_count": null,
   "id": "9c65df10-df3c-4c6a-8972-b86956d00c3d",
   "metadata": {},
   "outputs": [],
   "source": [
    "my_list = [1, 2, 3]\n",
    "my_list2 = [\"a\", \"b\", \"c\"]\n",
    "my_list3 = [\"a\", 1, \"Python\", 5]"
   ]
  },
  {
   "cell_type": "markdown",
   "id": "259b2cc9-aad9-4e5b-81eb-414dec2d8285",
   "metadata": {},
   "source": [
    "can also create lists of lists like this"
   ]
  },
  {
   "cell_type": "code",
   "execution_count": null,
   "id": "56c6d911-364c-44aa-9f2b-3b5bef72541e",
   "metadata": {},
   "outputs": [],
   "source": [
    "my_list = [1, 2, 3]\n",
    "my_list2 = [\"a\", \"b\", \"c\"]\n",
    "\n",
    "my_nested_list = [my_list, my_list2]\n",
    "print(my_nested_list) # [[1, 2, 3], ['a', 'b', 'c']]"
   ]
  },
  {
   "cell_type": "markdown",
   "id": "57d9d39c-f690-45f6-83ea-25f352cd949d",
   "metadata": {},
   "source": [
    "#### Accessing List Elements\n",
    "Lists are sequences, and their elements are positionally ordered.\n",
    "\r\n",
    "The first element is at index 0, the second at index 1, and so on."
   ]
  },
  {
   "cell_type": "code",
   "execution_count": null,
   "id": "1d25b102-a7a1-4f5c-a042-4a3221d57306",
   "metadata": {},
   "outputs": [],
   "source": [
    "l = [10, 20, 30, 40, 50]"
   ]
  },
  {
   "cell_type": "code",
   "execution_count": null,
   "id": "e5b4470f-8859-483f-8da8-316036ca2ccc",
   "metadata": {},
   "outputs": [],
   "source": [
    "l[0]"
   ]
  },
  {
   "cell_type": "code",
   "execution_count": null,
   "id": "b75b9836-79a0-4312-9c4d-063ef4090f5b",
   "metadata": {},
   "outputs": [],
   "source": [
    "l[5]"
   ]
  },
  {
   "cell_type": "code",
   "execution_count": null,
   "id": "0df747bb-4c76-4476-a794-edb8c35e0bbc",
   "metadata": {},
   "outputs": [],
   "source": [
    "# Lenght of the list\n",
    "\n",
    "len(l)"
   ]
  },
  {
   "cell_type": "markdown",
   "id": "90a5819f-b236-4ce6-804f-e016cdbdb756",
   "metadata": {},
   "source": [
    "#### Combining two lists\n",
    "to combine two lists together. The first way is to use the extend method:"
   ]
  },
  {
   "cell_type": "code",
   "execution_count": null,
   "id": "3405ff67-a149-421f-a6bc-786b8b88f074",
   "metadata": {},
   "outputs": [],
   "source": [
    "combo_list = [1]\n",
    "one_list = [4, 5]\n",
    "combo_list.extend(one_list)\n",
    "print(combo_list) # [1, 4, 5]"
   ]
  },
  {
   "cell_type": "code",
   "execution_count": null,
   "id": "927c0c7e-5dd5-4432-b145-ac320e9786aa",
   "metadata": {},
   "outputs": [],
   "source": [
    "# Alternative - slightly easier way\n",
    "my_list = [1, 2, 3]\n",
    "my_list2 = [\"a\", \"b\", \"c\"]\n",
    "\n",
    "combo_list = my_list + my_list2\n",
    "print(combo_list) # [1, 2, 3, 'a', 'b', 'c']"
   ]
  },
  {
   "cell_type": "code",
   "execution_count": null,
   "id": "32465ba9-2ff9-4f7d-9406-9243f223a0cd",
   "metadata": {},
   "outputs": [],
   "source": [
    "# Sort a list in-place\n",
    "alpha_list = [34, 23, 67, 100, 88, 2]\n",
    "alpha_list.sort()\n",
    "print(alpha_list) # [2, 23, 34, 67, 88, 100]"
   ]
  },
  {
   "cell_type": "code",
   "execution_count": null,
   "id": "698324e4-2686-45b8-90fe-5de421f088ed",
   "metadata": {},
   "outputs": [],
   "source": [
    "alpha_list = [34, 23, 67, 100, 88, 2]\n",
    "sorted_list = alpha_list.sort()\n",
    "print(sorted_list)"
   ]
  },
  {
   "cell_type": "code",
   "execution_count": null,
   "id": "39540fbe-9c30-4761-83c3-2119480a5cc6",
   "metadata": {},
   "outputs": [],
   "source": [
    "# Slicing\n",
    "my_list = [1, 2, 3, 4, 5, 6]\n",
    "sliced_list = my_list[1:4]  # [2, 3, 4]"
   ]
  },
  {
   "cell_type": "code",
   "execution_count": null,
   "id": "79a0a248-0d82-46d7-86b8-cc392ac67a4d",
   "metadata": {},
   "outputs": [],
   "source": [
    "# Appending and Extending\n",
    "my_list.append(7)  # [1, 2, 3, 4, 5, 6, 7]\n",
    "my_list.extend([8, 9])  # [1, 2, 3, 4, 5, 6, 7, 8, 9]"
   ]
  },
  {
   "cell_type": "code",
   "execution_count": null,
   "id": "e84e5f7e-ce26-47d8-9eb4-823dace05b34",
   "metadata": {},
   "outputs": [],
   "source": [
    "# Sorting and Reversing\n",
    "my_list.sort()  # [1, 2, 3, 4, 5, 6, 7, 8, 9]\n",
    "my_list.reverse()  # [9, 8, 7, 6, 5, 4, 3, 2, 1]"
   ]
  },
  {
   "cell_type": "code",
   "execution_count": null,
   "id": "f8267256-aaec-44f4-8ae3-d5112469b8f0",
   "metadata": {},
   "outputs": [],
   "source": [
    "# Using sorted to create a new sorted list\n",
    "sorted_list = sorted(my_list)  # [1, 2, 3, 4, 5, 6, 7, 8, 9]"
   ]
  },
  {
   "cell_type": "markdown",
   "id": "add01135-55d9-4ce9-bdd9-4d08aab6055b",
   "metadata": {},
   "source": [
    "#### Common list methods\n",
    "| Method                    | Description                                                                   |\r\n",
    "|---------------------------|-------------------------------------------------------------------------------|\r\n",
    "| `list.append(x)`          | Add an item to the end of the list. Equivalent to a[len(a):] = [x].            |\r\n",
    "| `list.exteseqble)`   | Extend the list by appending all the items from tsequenceble.                 |\r\n",
    "| `list.insert(i, x)`       | Insert an item at a given position.                                            |\r\n",
    "| `list.remove(x)`          | Remove the first item from the list whose value is equal to x.                 |\r\n",
    "| `list.pop([i])`           | Remove the item at the given position in the list, and return it.             |\r\n",
    "| `list.clear()`            | Remove all items from the list. Equivalent to del a[:].                       |\r\n",
    "| `list.index(x[, start[, end]])` | Return zero-based index in the list of the first item whose value is equal to x. |\r\n",
    "| `list.count(x)`           | Return the number of times x appears in the list.                             |\r\n",
    "| `list.sort(*, key=None, reverse=False)` | Sort the items of the list in place.                                     |\r\n",
    "| `list.reverse()`          | Reverse the elements of the list in place.                                    |\r\n",
    "| `list.copy()`             | Return a shallow copy of the list. Equivalent to a[:].                         |\r\n"
   ]
  },
  {
   "cell_type": "markdown",
   "id": "e1c43578-3807-47fa-ba81-b48be6d7893a",
   "metadata": {
    "jp-MarkdownHeadingCollapsed": true
   },
   "source": [
    "### Tuples\n",
    "think of tuples as immutable lists (we cannot add, remove, or replace elements of the collection)"
   ]
  },
  {
   "cell_type": "markdown",
   "id": "8abe3e22-af4b-4e1e-b2dd-a8ad6e423803",
   "metadata": {},
   "source": [
    "#### Creating a Tuple\n",
    "\n",
    "We can create literal lists using paranthesis `()` or using `tuple()`."
   ]
  },
  {
   "cell_type": "code",
   "execution_count": null,
   "id": "de28cb98-84de-4bfc-93c3-69a36588f42a",
   "metadata": {},
   "outputs": [],
   "source": [
    "t=tuple()\n",
    "t=()\n",
    "type(t)"
   ]
  },
  {
   "cell_type": "markdown",
   "id": "6e0c9c98-00ed-4d01-8efe-4e16e71b67fe",
   "metadata": {},
   "source": [
    "#### Accessing Tuple Elements\n",
    "Since tuples are `sequence` types, we can access elements by index, just like lists, including negative indexes"
   ]
  },
  {
   "cell_type": "code",
   "execution_count": null,
   "id": "5ed290f8-3548-4d3a-ac9b-6cdacf0bf870",
   "metadata": {},
   "outputs": [],
   "source": [
    "t = (1, 2, 3)\n",
    "t[0]"
   ]
  },
  {
   "cell_type": "code",
   "execution_count": null,
   "id": "32ef740b-69e1-4925-860b-aa373f9986ef",
   "metadata": {},
   "outputs": [],
   "source": []
  },
  {
   "cell_type": "code",
   "execution_count": null,
   "id": "c61eb168-cc0d-49f4-b279-863872f697f1",
   "metadata": {},
   "outputs": [],
   "source": [
    "my_tuple = (1, 2, 3, 4, 5)\n",
    "print(my_tuple[0:3]) # (1, 2, 3)\n",
    "\n",
    "another_tuple = tuple()\n",
    "\n",
    "abc = tuple([1, 2, 3])\n",
    "print(abc)"
   ]
  },
  {
   "cell_type": "code",
   "execution_count": null,
   "id": "e0778ff6-7d02-416d-9307-ff5d7bff1451",
   "metadata": {},
   "outputs": [],
   "source": [
    "abc = tuple([1, 2, 3])\n",
    "abc_list = list(abc)\n",
    "print(abc_list)"
   ]
  },
  {
   "cell_type": "code",
   "execution_count": null,
   "id": "2db409b3-86a8-4cf9-89b3-560944d35e66",
   "metadata": {},
   "outputs": [],
   "source": [
    "t = (1, 2, 30)\n",
    "t[2] = 3"
   ]
  },
  {
   "cell_type": "markdown",
   "id": "24675f04-a4d0-4d5a-95b1-5cde691f78a4",
   "metadata": {},
   "source": [
    "elements of the tuple are need not be immutable - tuples, like lists, can contain any object, including mutable ones."
   ]
  },
  {
   "cell_type": "code",
   "execution_count": null,
   "id": "348f1e16-88ce-4bc8-bdc6-5ff97fad3056",
   "metadata": {},
   "outputs": [],
   "source": [
    "t = ([1, 2], [3, 4])"
   ]
  },
  {
   "cell_type": "code",
   "execution_count": null,
   "id": "8952e145-b215-4436-a70b-9e4f762d855c",
   "metadata": {},
   "outputs": [],
   "source": [
    "t[0] = 100"
   ]
  },
  {
   "cell_type": "code",
   "execution_count": null,
   "id": "5d6a3629-942b-427e-9b1d-9743a8e4b1f8",
   "metadata": {},
   "outputs": [],
   "source": [
    "t[0][1] = 20\n",
    "print(t)"
   ]
  },
  {
   "cell_type": "markdown",
   "id": "5a780564-e691-42b9-bfb8-187b32fd240c",
   "metadata": {},
   "source": [
    "### Strings\n",
    "immutable homogeneous sequences - their elements are single characters.\n",
    "We can use `'` or `\"` or `'''` to create strings using literals:"
   ]
  },
  {
   "cell_type": "code",
   "execution_count": null,
   "id": "ec9d7814-715e-448f-a9ae-815b2cf2fa67",
   "metadata": {},
   "outputs": [],
   "source": [
    "a = 'hello'"
   ]
  },
  {
   "cell_type": "code",
   "execution_count": null,
   "id": "b48952c0-1e20-426a-ae09-e6d67e972aec",
   "metadata": {},
   "outputs": [],
   "source": [
    "b = \"Python\""
   ]
  },
  {
   "cell_type": "code",
   "execution_count": null,
   "id": "81972911-184c-42d8-84a0-5026998fd3ce",
   "metadata": {},
   "outputs": [],
   "source": [
    "type(a), type(b)"
   ]
  },
  {
   "cell_type": "code",
   "execution_count": null,
   "id": "f46bed22-07eb-4652-a926-b2fc6f24a152",
   "metadata": {},
   "outputs": [],
   "source": [
    "my_string = \"I'm a Python programmer!\"\n",
    "otherString = 'The word \"python\" usually refers to a snake'\n",
    "tripleString = \"\"\"Here's another way to embed \"quotes\" in a string\"\"\"\n",
    "\n",
    "print(my_string)\n",
    "print(otherString)\n",
    "print(tripleString"
   ]
  },
  {
   "cell_type": "code",
   "execution_count": null,
   "id": "45637301-8117-42dd-8eaf-b2500adf0c1d",
   "metadata": {},
   "outputs": [],
   "source": [
    "s1 = 'Python Basics'"
   ]
  },
  {
   "cell_type": "code",
   "execution_count": null,
   "id": "935d13e6-6530-4799-adb8-4c77e0242493",
   "metadata": {},
   "outputs": [],
   "source": [
    "s1[0]"
   ]
  },
  {
   "cell_type": "code",
   "execution_count": null,
   "id": "f830a5a7-5c73-4321-b464-a1532347af9d",
   "metadata": {},
   "outputs": [],
   "source": [
    "len(s1)"
   ]
  },
  {
   "cell_type": "code",
   "execution_count": null,
   "id": "b6b81fab-055b-4c1c-a519-c1149ed069e9",
   "metadata": {},
   "outputs": [],
   "source": [
    "s1[0] = 'x'"
   ]
  },
  {
   "cell_type": "code",
   "execution_count": null,
   "id": "d5cdc1e9-5719-4427-91d2-4ade10fe0713",
   "metadata": {},
   "outputs": [],
   "source": [
    "s = str() "
   ]
  },
  {
   "cell_type": "code",
   "execution_count": null,
   "id": "9a275cbd-3176-44a7-9dc4-6f9b0dbfc9c7",
   "metadata": {},
   "outputs": [],
   "source": [
    "type(s), len(s)"
   ]
  },
  {
   "cell_type": "markdown",
   "id": "64acc2fa-a1c6-4f2a-ab7d-7f74167256c1",
   "metadata": {},
   "source": [
    "Just like the `list()` and `tuple()` functions, the `str()` function can take any sequence type and make a string out of it:"
   ]
  },
  {
   "cell_type": "code",
   "execution_count": null,
   "id": "6a3085fd-373e-4fd2-8179-62375f655dd4",
   "metadata": {},
   "outputs": [],
   "source": [
    "t = 1, 2, 3\n",
    "type(t)"
   ]
  },
  {
   "cell_type": "code",
   "execution_count": null,
   "id": "cecb5075-ff86-43ad-b45b-bb1b640e2093",
   "metadata": {},
   "outputs": [],
   "source": [
    "s = str(t)\n",
    "s"
   ]
  },
  {
   "cell_type": "code",
   "execution_count": null,
   "id": "255a3652-7135-45ae-8ee0-271bca4d27d6",
   "metadata": {},
   "outputs": [],
   "source": [
    "t = tuple(s1)\n",
    "t"
   ]
  },
  {
   "cell_type": "code",
   "execution_count": null,
   "id": "4333eab4-9408-44ea-a62c-040174cf31b5",
   "metadata": {},
   "outputs": [],
   "source": [
    "l = list(s1)\n",
    "l"
   ]
  },
  {
   "cell_type": "code",
   "execution_count": null,
   "id": "80b100f5-b4b1-4d26-a46f-5b22e81ed17b",
   "metadata": {},
   "outputs": [],
   "source": [
    "s = 'Python-' * 4\n",
    "s"
   ]
  },
  {
   "cell_type": "markdown",
   "id": "02a69977-d0f4-481b-ba4c-2f8e5aabe12f",
   "metadata": {
    "jp-MarkdownHeadingCollapsed": true
   },
   "source": [
    "#### String formatting\n",
    "\r\n",
    "🐍 [Official Docs](https://docs.python.org/3/tutorial/inputoutput.html)"
   ]
  },
  {
   "cell_type": "code",
   "execution_count": null,
   "id": "29631ea0-0ffa-4973-b46f-a4e5ba488650",
   "metadata": {},
   "outputs": [],
   "source": [
    "name = \"Pavan Shanbhag\"\n",
    "memory_address = 11455578782"
   ]
  },
  {
   "cell_type": "markdown",
   "id": "cc39e557-12a5-49d6-9805-c349a69f9080",
   "metadata": {},
   "source": [
    "Old style"
   ]
  },
  {
   "cell_type": "code",
   "execution_count": null,
   "id": "b19b367c-1c7e-4314-ac96-738e00deaad6",
   "metadata": {},
   "outputs": [],
   "source": [
    "\"Hey %s, check the memory address 0x%x for hint!\" % (name, memory_address)"
   ]
  },
  {
   "cell_type": "code",
   "execution_count": null,
   "id": "65da86c0-7db0-47bd-9193-f4760cf56e85",
   "metadata": {},
   "outputs": [],
   "source": [
    "\"Hey %(name)s, check the memory address 0x%(memory_address)x for hint!\" % {\n",
    "    \"name\": name,\n",
    "    \"memory_address\": memory_address,\n",
    "}"
   ]
  },
  {
   "cell_type": "markdown",
   "id": "d03cdb9c-5dda-4705-b22e-f832fa75c705",
   "metadata": {},
   "source": [
    "New Style"
   ]
  },
  {
   "cell_type": "code",
   "execution_count": null,
   "id": "319b96ca-49d8-4c83-acd0-60a6f70e9aac",
   "metadata": {},
   "outputs": [],
   "source": [
    "\"Hey {}, check the memory address 0x{:x} for hint!\".format(name, memory_address)"
   ]
  },
  {
   "cell_type": "code",
   "execution_count": null,
   "id": "610f8397-d52f-40ee-b939-506ae72822e7",
   "metadata": {},
   "outputs": [],
   "source": [
    "\"Hey {name}, check the memory address 0x{memory_address} for hint!\".format(\n",
    "    name=name, memory_address=memory_address\n",
    ")"
   ]
  },
  {
   "cell_type": "markdown",
   "id": "861f7caf-b7da-45dc-98b3-e85f94d63274",
   "metadata": {},
   "source": [
    "##### String Interpolationm (f-string) (>= Python 3.6)\r\n",
    "\r\n",
    "**NOTE**: [Don't use f-string while using logger](https://google.github.io/styleguide/pyguide.html#3101-logging)"
   ]
  },
  {
   "cell_type": "code",
   "execution_count": null,
   "id": "37e2aac9-202c-4449-b460-f8d01b5418f9",
   "metadata": {},
   "outputs": [],
   "source": [
    "f\"Hey {name}, check the memory address 0x{memory_address:x} for hint!\""
   ]
  },
  {
   "cell_type": "code",
   "execution_count": null,
   "id": "5a680da2-ee5a-4d5a-9789-0c2b776d9678",
   "metadata": {},
   "outputs": [],
   "source": [
    "f\"{name = }, {memory_address = }\""
   ]
  },
  {
   "cell_type": "code",
   "execution_count": null,
   "id": "127ebcfe-2781-4106-b60e-856f02802cc4",
   "metadata": {},
   "outputs": [],
   "source": [
    "f\"{2 + 2 = }\""
   ]
  },
  {
   "cell_type": "markdown",
   "id": "136a57bd-ae36-41a1-b666-a8f7df8f6ae7",
   "metadata": {},
   "source": [
    "#### Common String methods\n",
    "\n",
    "| Method                | Description                                            |\n",
    "|-----------------------|--------------------------------------------------------|\n",
    "| `str.capitalize()`    | Return a copy of the string with its first character capitalized and the rest lowercased. |\n",
    "| `str.upper()`         | Return a copy of the string converted to uppercase.     |\n",
    "| `str.lower()`         | Return a copy of the string converted to lowercase.     |\n",
    "| `str.title()`         | Return a titlecased version of the string.              |\n",
    "| `str.strip([chars])`  | Return a copy of the string with leading and trailing whitespace removed. |\n",
    "| `str.startswith(prefix[, start[, end]])` | Return `True` if the string starts with the specified prefix. |\n",
    "| `str.endswith(suffix[, start[, end]])`   | Return `True` if the string ends with the specified suffix.   |\n",
    "| `str.replace(old, new[, count])`          | Return a copy of the string with occurrences of substring `old` replaced by `new`. |\n",
    "| `str.split([sep[, maxsplit]])`            | Return a list of the words in the string, using `sep` as the delimiter string. |\n",
    "| `str.join(iterable)`  | Concatenate any number of strings.                      |\n",
    "| `str.isnumeric()`     | Return `True` if all characters in the string are numeric characters. |\n",
    "| `str.isalpha()`       | Return `True` if all characters in the string are alphabetic characters. |\n"
   ]
  },
  {
   "cell_type": "markdown",
   "id": "6879f7ac-e0f2-4c78-a0e1-e58a41f7b24d",
   "metadata": {},
   "source": [
    "### Dictionary\n",
    "Python dictionary is basically a hash table or a hash mapping. In some languages, they might be referred to as associative memories or associative arrays. They are indexed with keys, which can be any immutable type.\n",
    "\n",
    "Dictionaries are used to store data values in `key:value` pairs\n",
    "The are unordered, mutable and don't allow duplicate keys"
   ]
  },
  {
   "cell_type": "code",
   "execution_count": null,
   "id": "4199fde1-f746-462b-8cf5-a1e7ef16ce41",
   "metadata": {},
   "outputs": [],
   "source": [
    "my_dict = {}\n",
    "my_dict1 = dict()"
   ]
  },
  {
   "cell_type": "markdown",
   "id": "ca0196b0-ae1b-4f4d-b4ea-3de9d41f3246",
   "metadata": {},
   "source": [
    "#### Accessing the elements"
   ]
  },
  {
   "cell_type": "code",
   "execution_count": null,
   "id": "fa03a4cd-7422-4866-a7b4-91bdd057da2d",
   "metadata": {},
   "outputs": [],
   "source": [
    "my_other_dict = {\"one\":1, \"two\":2, \"three\":3}\n",
    "my_other_dict[\"one\"]"
   ]
  },
  {
   "cell_type": "code",
   "execution_count": null,
   "id": "b8902916-51ec-46c2-96bb-8559d6f91a49",
   "metadata": {},
   "outputs": [],
   "source": [
    "my_dict = {\"name\":\"Mike\", \"address\":\"123 Happy Way\"}\n",
    "my_dict[\"name\"]"
   ]
  },
  {
   "cell_type": "code",
   "execution_count": null,
   "id": "633f10d0-7306-4058-acd2-98b4493975e5",
   "metadata": {},
   "outputs": [],
   "source": [
    "my_dict = {\"name\":\"Mike\", \"address\":\"123 Happy Way\"}\n",
    "print(\"name\" in my_dict) # True\n",
    "print (\"state\" in my_dict) # False"
   ]
  },
  {
   "cell_type": "markdown",
   "id": "bf4d7d63-8df1-454d-8ad1-591a40f8867e",
   "metadata": {},
   "source": [
    "#### Assing Value or add new"
   ]
  },
  {
   "cell_type": "code",
   "execution_count": null,
   "id": "6b7b10b5-7da7-4c27-aa73-f13233a66bc3",
   "metadata": {},
   "outputs": [],
   "source": [
    "my_dict[\"new_key\"] = \"First Assingment\"\n",
    "print(my_dict)\n",
    "my_dict[\"new_key\"] = \"Modified First Assingment\"\n",
    "print(my_dict)"
   ]
  },
  {
   "cell_type": "markdown",
   "id": "24ade999-e3e6-4434-b1fa-7dda8ca575ac",
   "metadata": {
    "jp-MarkdownHeadingCollapsed": true
   },
   "source": [
    "#### Common Dictionary Methods\n",
    "| Method       | Description                                                   |\n",
    "|--------------|---------------------------------------------------------------|\n",
    "| clear()      | Removes all the elements from the dictionary                  |\n",
    "| copy()       | Returns a copy of the dictionary                              |\n",
    "| fromkeys()   | Returns a dictionary with the specified keys and value        |\n",
    "| get()        | Returns the value of the specified key                        |\n",
    "| items()      | Returns a list containing a tuple for each key-value pair     |\n",
    "| keys()       | Returns a list containing the dictionary's keys               |\n",
    "| pop()        | Removes the element with the specified key                    |\n",
    "| popitem()    | Removes the last inserted key-value pair                      |\n",
    "| setdefault() | Returns the value of the specified key. If the key does not exist: insert the key, with the specified value |\n",
    "| update()     | Updates the dictionary with the specified key-value pairs     |\n",
    "| values()     | Returns a list of all the values in the dictionary             |\n"
   ]
  },
  {
   "cell_type": "markdown",
   "id": "422f93c5-391e-4221-86a8-bed25d4fbfc6",
   "metadata": {},
   "source": [
    "### Sets\n",
    "Set is the collection of the unordered items. Each element in the set must be unique and immutable"
   ]
  },
  {
   "cell_type": "code",
   "execution_count": null,
   "id": "dc647f59-5535-4e9d-9d93-fce0f4805987",
   "metadata": {},
   "outputs": [],
   "source": [
    "nums = {1,2,3,4,5}\n",
    "print(nums)\n"
   ]
  },
  {
   "cell_type": "code",
   "execution_count": null,
   "id": "5f5b67fc-911a-49f8-bdd8-e647f94e67f8",
   "metadata": {},
   "outputs": [],
   "source": [
    "set2 = {1,2,3,3,3}\n",
    "print(set2)"
   ]
  },
  {
   "cell_type": "code",
   "execution_count": null,
   "id": "734b5c9d-8f17-4703-97fd-622a92e9e0ad",
   "metadata": {},
   "outputs": [],
   "source": [
    "empty_set = set()"
   ]
  },
  {
   "cell_type": "markdown",
   "id": "8c2400e7-c29b-4df1-9161-d4654982e867",
   "metadata": {},
   "source": [
    "#### Common Dictionary Methods\n",
    "| Method              | Description                                      |\n",
    "|---------------------|--------------------------------------------------|\n",
    "| add()               | Adds a given element to the set                 |\n",
    "| clear()             | Removes all elements from the set               |\n",
    "| copy()              | Returns a shallow copy of the set               |\n",
    "| difference()        | Returns the difference between two sets         |\n",
    "| discard()           | Removes the specified element from the set      |\n",
    "| intersection()      | Returns the intersection of two or more sets    |\n",
    "| isdisjoint()         | Checks if two sets have no elements in common  |\n",
    "| issubset()           | Checks if one set is a subset of another        |\n",
    "| issuperset()         | Checks if one set is a superset of another      |\n",
    "| pop()               | Removes and returns an arbitrary element       |\n",
    "| remove()            | Removes the specified element from the set      |\n",
    "| symmetric_difference() | Returns the symmetric difference of two sets   |\n",
    "| union()             | Returns the union of two or more sets           |\n",
    "| update()            | Updates the set with elements from another set  |\n"
   ]
  },
  {
   "cell_type": "markdown",
   "id": "b97eaf00-60c5-478e-b86d-1b25db96d7e4",
   "metadata": {},
   "source": [
    "## Practice Tasks\n",
    "1. Store following word meanings in a python dictionary :\n",
    "    table : \"a piece of furniture\", \"list of facts & figures\"\n",
    "    cat : \"a small animal\"\n",
    "\n",
    "2. You are given a list of subjects for students. Assume one classroom is required for 1 subject.\n",
    "   How many classrooms are needed by all students.\n",
    "   \"python\", \"java\", \"C++\", \"python\", \"javascript\", \"java\", \"python\", \"java\", \"C++\", \"C\""
   ]
  },
  {
   "cell_type": "markdown",
   "id": "23d6b0f5-0709-4fd3-a05f-1a078bc2cdc3",
   "metadata": {},
   "source": [
    "## Sequence, Set and Mapping\n",
    "\n",
    "🐍 [Official Docs](https://docs.python.org/3/tutorial/datastructures.html)\n",
    "\n",
    "\n",
    "| Data Structure      | Description                                        | Example                                             | Output                                  |\n",
    "|---------------------|----------------------------------------------------|-----------------------------------------------------|-----------------------------------------|\n",
    "| Sequence           | - Mutable Sequence (List)                         | `mutable_list = [1, 2, 3]`<br>`mutable_list.append(4)`<br>`print(mutable_list)`    | Output: `[1, 2, 3, 4]`                  |\n",
    "|                     | - Immutable Sequence (Tuple)                      | `immutable_tuple = (1, 2, 3)`<br>`print(immutable_tuple[0])`                    | Output: `1`                             |\n",
    "|                     | - Immutable Sequence (String)                     | `immutable_string = \"Hello\"`<br>`print(immutable_string[1])`                     | Output: `e`                             |                  \n",
    "| Set                 | - Mutable Set (Set)                               | `mutable_set = {1, 2, 3}`<br>`mutable_set.add(4)`<br>`print(mutable_set)`           | Output: `{1, 2, 3, 4}`                  |\n",
    "|                     | - Immutable Set (Frozen Set)                      | `immutable_set = frozenset({1, 2, 3})`<br>`print(immutable_set)`               | Output: `frozenset({1, 2, 3})`          |\n",
    "| Mapping             | - Dictionary                                      | `dictionary = {\"key1\": \"value1\", \"key2\": \"value2\"}`<br>`print(dictionary[\"key1\"])` | Output: `value1`                        |\n",
    "\n"
   ]
  },
  {
   "cell_type": "code",
   "execution_count": null,
   "id": "10954cb7-5899-4486-ae63-c02a3594780f",
   "metadata": {},
   "outputs": [],
   "source": []
  }
 ],
 "metadata": {
  "kernelspec": {
   "display_name": "Python 3 (ipykernel)",
   "language": "python",
   "name": "python3"
  },
  "language_info": {
   "codemirror_mode": {
    "name": "ipython",
    "version": 3
   },
   "file_extension": ".py",
   "mimetype": "text/x-python",
   "name": "python",
   "nbconvert_exporter": "python",
   "pygments_lexer": "ipython3",
   "version": "3.12.2"
  }
 },
 "nbformat": 4,
 "nbformat_minor": 5
}
