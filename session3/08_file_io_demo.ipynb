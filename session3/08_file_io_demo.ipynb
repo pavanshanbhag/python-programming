{
 "cells": [
  {
   "cell_type": "markdown",
   "id": "95683420-39f5-481d-8a26-036a8b31c066",
   "metadata": {},
   "source": [
    "# File I/O in Python\n",
    "Python can be used to perform operations on file.(read/write data)\n",
    "\n",
    "#### Types of files\n",
    "1. Text files: .txt, .docx, .log, etc.\n",
    "2. Binary Files: .mp4, .mov, .png, .jpeg, etc."
   ]
  },
  {
   "cell_type": "markdown",
   "id": "2d0615eb-c7ed-4840-91cc-890a7b4bba48",
   "metadata": {},
   "source": [
    "#### Open File\n",
    "We have to open a file before reading or writing. \n",
    "    - this is performed using built in function open()\n",
    "\n",
    "`f = open(\"file_name\",\"mode\")`\n",
    "\n",
    "modes are used to specify the type of operation to be performed on a file. The commonly used file modes include:\r\n",
    "\r\n",
    "- **`r`:** Open an existing file for a read operatio (default)n.\r\n",
    "\r\n",
    "- **`w`:** Open an existing file for a write operation. If the file already contains some data, it will be overridden. If the file is not present, it creates the file.\r\n",
    "\r\n",
    "- **`a`:** Open an existing file for an append operation. It won't override existing data.\r\n",
    "\r\n",
    "- **`r+`:** Open a file for both reading and writing. The previous data in the file will be overridden.\r\n",
    "\r\n",
    "- **`w+`:** Open a file for both writing and reading. It will override existing data.\r\n",
    "\r\n",
    "- **`a+`:** Open a file for both append and reading. It won't override existing data.\n"
   ]
  },
  {
   "cell_type": "markdown",
   "id": "a2363841-67e3-4b18-b7b8-f669a822f560",
   "metadata": {},
   "source": [
    "#### Reading a File\n",
    "\n",
    "data = f.read() #reads entire file\n",
    "\n",
    "data = f.readline() #reads one line at a time"
   ]
  },
  {
   "cell_type": "markdown",
   "id": "584b7659-d6b6-4412-8be0-259b80511364",
   "metadata": {},
   "source": [
    "#### Writing to a File\n",
    "f = open(\"demo.txt\", \"w\")\n",
    "\n",
    "f.write(\"this is a new line\")   #overwrites the entire file\n",
    "\n",
    "f = open(\"demo.txt\", \"a\")\n",
    "\n",
    "f.write(\"this is a new line\") #adds to the file"
   ]
  },
  {
   "cell_type": "markdown",
   "id": "bd684847-8966-4aee-8ce5-b09b4ffa0348",
   "metadata": {},
   "source": [
    "#### Close File\n",
    "\n",
    "f.close()"
   ]
  },
  {
   "cell_type": "code",
   "execution_count": null,
   "id": "36fe55b8-20c6-4fe3-8fbf-a4a4bcea32ae",
   "metadata": {},
   "outputs": [],
   "source": [
    "# before running below cells make sure demo.txt file is created in the current directory"
   ]
  },
  {
   "cell_type": "code",
   "execution_count": null,
   "id": "38191e2f-c80c-4b51-8814-6173ad81ac4b",
   "metadata": {
    "scrolled": true
   },
   "outputs": [],
   "source": [
    "f = open(\"demo.txt\",\"r\")\n",
    "print(f.name)\n",
    "print(f.mode)\n",
    "print(f.closed)\n",
    "print(f.read())\n",
    "\n",
    "f.close()\n",
    "print(f.closed)\n"
   ]
  },
  {
   "cell_type": "code",
   "execution_count": null,
   "id": "f38fe73c-4fc8-4034-8498-a632f7d9f1bf",
   "metadata": {},
   "outputs": [],
   "source": [
    "file = open('demo1.txt','w')\n",
    "file.write('This is my custom line 1 \\n')\n",
    "file.write('This is my custom line 2')\n",
    "file.close()"
   ]
  },
  {
   "cell_type": "code",
   "execution_count": null,
   "id": "258463f4-3208-4a30-bcbf-d2c23a4b43af",
   "metadata": {},
   "outputs": [],
   "source": [
    "# always remember to explicitly close the file\n",
    "# leaks can be introduced, we can run out of max number of file descriptor on system\n",
    "\n",
    "\n",
    "# intermediate concept : Context Managers\n",
    "with open('demo.txt', 'r') as f:\n",
    "    print(f.name)\n",
    "    print(f.mode)\n",
    "    print(f.closed)\n",
    "print(f.closed)  # will be accessible but of not much use\n"
   ]
  },
  {
   "cell_type": "code",
   "execution_count": null,
   "id": "f7205119-8547-410c-8d89-95635f57bbe2",
   "metadata": {},
   "outputs": [],
   "source": []
  }
 ],
 "metadata": {
  "kernelspec": {
   "display_name": "Python 3 (ipykernel)",
   "language": "python",
   "name": "python3"
  },
  "language_info": {
   "codemirror_mode": {
    "name": "ipython",
    "version": 3
   },
   "file_extension": ".py",
   "mimetype": "text/x-python",
   "name": "python",
   "nbconvert_exporter": "python",
   "pygments_lexer": "ipython3",
   "version": "3.12.2"
  }
 },
 "nbformat": 4,
 "nbformat_minor": 5
}
