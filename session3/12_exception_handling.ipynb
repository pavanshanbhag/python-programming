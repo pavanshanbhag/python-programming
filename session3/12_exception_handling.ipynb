{
 "cells": [
  {
   "cell_type": "markdown",
   "id": "c7836fcd-144b-49bd-b06e-4b14f7b6a690",
   "metadata": {},
   "source": [
    "# Exceptions in Python\n",
    "\n",
    "Exceptions are special events that occur when something out of the ordinary happens while our code is running.\n",
    "\n",
    "- An exception is generally unexpected behavior.\n",
    "    - But not always\n",
    "    - it may be something we expect to happen from time to time.\n",
    "        - We can handle exceptions and continue running our code.\n",
    "          \n",
    "- An exception is not necessarily an error.\n",
    "- Unhandled exceptions will cause our program to terminate.\n"
   ]
  },
  {
   "cell_type": "markdown",
   "id": "6ebd45b5-9f76-4eed-ace9-77b77caf33e5",
   "metadata": {},
   "source": [
    "### Exception Terminology in Python\n",
    "\n",
    "- **exception:** A special type of object in Python.\n",
    "\n",
    "- **raising:** The act of starting an exception event, often due to unexpected or exceptional conditions in the code.\n",
    "\n",
    "- **exception handling:** The process of interacting with an exception in some manner, typically to prevent it from causing the program to terminate abruptly.\n",
    "\n",
    "- **unhandled exception:** An exception flow that is not handled by our code. Unhandled exceptions generally result in our program terminating abruptly.\n",
    "\n",
    "### Exception Hierarchy in Python\n",
    "\n",
    "- Python exceptions form a hierarchy, \n",
    "  - [Python Exception Hierarchy Documentation](https://docs.python.org/3/library/exceptions.html#exception-hierarchy)\n",
    "\n",
    "- This hierarchy means that exceptions can be classes subdivided into sub-exceptions that are more specific.\n",
    "\n",
    "- For example, a broad exception might be `LookupError`.\n",
    "  - More specifically, it could be an `IndexError` or a `KeyError`.\n",
    "  - Both `IndexError` and `KeyError` are categorized more broadly as a `LookupError`.\n",
    "  - We can choose to handle `IndexError` specifically or `LookupError` more broadly, depending on our needs.\n",
    "\n",
    "- If an exception object is an `IndexError` exception:\n",
    "  - It is also a `LookupError` exception.\n",
    "  - And it is also an `Exception` exception.\n",
    "  \n",
    "- Inheritance hierarchy, allowing for more specific handling of certain types of exceptions while also providing a more general catch-all if needed.\n",
    "\n",
    "- Common exceptions that developers often encounter include:\n",
    "\n",
    "    - `SyntaxError`\n",
    "    - `ZeroDivisionError`\n",
    "    - `IndexError`\n",
    "    - `KeyError`\n",
    "    - `ValueError`\n",
    "    - `TypeError`\n",
    "    - `FileNotFoundError`\n",
    "    - And many more...\n",
    "\n",
    "### Exception Handling Flow\n",
    "When an exception occurs:\r\n",
    "\r\n",
    "- An exception object is created.\r\n",
    "\r\n",
    "- An exception flow is started.\r\n",
    "\r\n",
    "- If we do nothing about it, the program terminates.\r\n",
    "\r\n",
    "If we intercept the exception flow:\r\n",
    "\r\n",
    "- We use a `try` block to handle the exception in some sense, if possible.\r\n",
    "\r\n",
    "- Then, we can:\r\n",
    "  - Resume running the program uninterrupted.\r\n",
    "  - Let the exception resume its normal flow.\r\n",
    "  - Start a new exception flow."
   ]
  },
  {
   "cell_type": "markdown",
   "id": "ee4edbce-226a-4635-a9c1-2bc12579b517",
   "metadata": {
    "jp-MarkdownHeadingCollapsed": true
   },
   "source": [
    "### Exception Handling Syntax in Python\n",
    "\n",
    "```python\n",
    "try:\n",
    "    # Code that may raise an exception\n",
    "    # ...\n",
    "\n",
    "except ExceptionType1 as variable1:\n",
    "    # Handle ExceptionType1\n",
    "    # ...\n",
    "\n",
    "except ExceptionType2 as variable2:\n",
    "    # Handle ExceptionType2\n",
    "    # ...\n",
    "\n",
    "# Add more except blocks as needed\n",
    "\n",
    "else:\n",
    "    # Code to execute if no exceptions occurred\n",
    "    # ...\n",
    "\n",
    "finally:\n",
    "    # Code to execute regardless of whether an exception occurred or not\n",
    "    # ...\n"
   ]
  },
  {
   "cell_type": "code",
   "execution_count": null,
   "id": "74ef3203-b6f0-486e-925d-14652518a50d",
   "metadata": {},
   "outputs": [],
   "source": [
    "while True:\n",
    "    try:\n",
    "        x = int(input(\"Please enter a number: \"))\n",
    "        break\n",
    "    except ValueError:\n",
    "        print(\"Oops!  That was no valid number.  Try again...\")"
   ]
  },
  {
   "cell_type": "code",
   "execution_count": null,
   "id": "0effa0be-f39b-492a-b3cd-59036241ad57",
   "metadata": {},
   "outputs": [],
   "source": [
    "\n",
    "try:\n",
    "    f = open('curruptfile.txt','r')\n",
    "\n",
    "    # if f.name == 'currupt_file.txt':\n",
    "    #     raise Exception\n",
    "except IOError as e:\n",
    "    print(f\"First Exception Block - {e}\")\n",
    "except Exception as e:\n",
    "    print(f\"Second Exception Block - {e}\")\n",
    "else:\n",
    "    print(f.read())\n",
    "    f.close()\n",
    "finally:\n",
    "    print(\"Executing Finally Block...\")"
   ]
  },
  {
   "cell_type": "code",
   "execution_count": null,
   "id": "25f5eb61-427e-4e53-968a-d82b64d5a700",
   "metadata": {},
   "outputs": [],
   "source": []
  }
 ],
 "metadata": {
  "kernelspec": {
   "display_name": "Python 3 (ipykernel)",
   "language": "python",
   "name": "python3"
  },
  "language_info": {
   "codemirror_mode": {
    "name": "ipython",
    "version": 3
   },
   "file_extension": ".py",
   "mimetype": "text/x-python",
   "name": "python",
   "nbconvert_exporter": "python",
   "pygments_lexer": "ipython3",
   "version": "3.12.2"
  }
 },
 "nbformat": 4,
 "nbformat_minor": 5
}
