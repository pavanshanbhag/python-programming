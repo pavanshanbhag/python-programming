{
 "cells": [
  {
   "cell_type": "markdown",
   "id": "5c4e867e-7291-4c22-800c-e9125b6b403f",
   "metadata": {},
   "source": [
    "# Comprehensions in Python\n",
    "\n",
    "- comprehensions provide a concise and readable way to create new iterables from existing ones. \n",
    "- They are similar to using a loop but with a more compact syntax.\n",
    "- While they work well for simple cases, it's essential to strike a balance to avoid unreadable code.\n",
    "- use for simple computations\n",
    "\n",
    "- Different types of comprehensions exist :\n",
    "    - lists\n",
    "    - dictionaries\n",
    "    - sets\n"
   ]
  },
  {
   "cell_type": "code",
   "execution_count": null,
   "id": "48dc981f-f14b-480c-a245-960bab09a802",
   "metadata": {},
   "outputs": [],
   "source": [
    "squares = []\n",
    "for num in range(1, 11):\n",
    "    if num % 2 == 0:\n",
    "        squares.append(num ** 2)\n",
    "print(squares)\n"
   ]
  },
  {
   "cell_type": "markdown",
   "id": "34da9ffa-62b2-440f-8563-e134da8cb5ed",
   "metadata": {},
   "source": [
    "## List Comprehension\n",
    "syntax - `[expr(item) for item in iterable [predicate] ]`\n",
    "\n",
    "\n",
    "[predicate] is optional"
   ]
  },
  {
   "cell_type": "code",
   "execution_count": null,
   "id": "419a16be-1500-4655-9a06-a36547a03581",
   "metadata": {},
   "outputs": [],
   "source": [
    "squares = [x ** 2 for x in range(1, 11) if x % 2 == 0]\n",
    "print(squares)\n"
   ]
  },
  {
   "cell_type": "markdown",
   "id": "0b7815bd-7ae0-492f-a2a4-662b1e12a596",
   "metadata": {
    "jp-MarkdownHeadingCollapsed": true
   },
   "source": [
    "## Set Comprehension\n",
    " syntax - \n",
    " `{ expr(item) for item in iterable}`"
   ]
  },
  {
   "cell_type": "code",
   "execution_count": null,
   "id": "dac815e8-079e-4884-9b9e-2b47ddf82908",
   "metadata": {},
   "outputs": [],
   "source": [
    "square_set = {x ** 2 for x in range(1, 11)}\n",
    "print(square_set)"
   ]
  },
  {
   "cell_type": "markdown",
   "id": "0c91f842-f7b3-4be7-98e8-7c7af9dde779",
   "metadata": {
    "jp-MarkdownHeadingCollapsed": true
   },
   "source": [
    "## Dictionary comprehension\n",
    "syntax - `{ key_expr:value_expr for item in iterable }`"
   ]
  },
  {
   "cell_type": "code",
   "execution_count": null,
   "id": "c8e3ce87-424c-4b8f-a7c1-a2dcd476c8d8",
   "metadata": {},
   "outputs": [],
   "source": [
    "square_dict = {x: x ** 2 for x in range(1, 6)}\n",
    "print(square_dict)"
   ]
  }
 ],
 "metadata": {
  "kernelspec": {
   "display_name": "Python 3 (ipykernel)",
   "language": "python",
   "name": "python3"
  },
  "language_info": {
   "codemirror_mode": {
    "name": "ipython",
    "version": 3
   },
   "file_extension": ".py",
   "mimetype": "text/x-python",
   "name": "python",
   "nbconvert_exporter": "python",
   "pygments_lexer": "ipython3",
   "version": "3.12.2"
  }
 },
 "nbformat": 4,
 "nbformat_minor": 5
}
