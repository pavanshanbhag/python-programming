{
 "cells": [
  {
   "cell_type": "markdown",
   "id": "5c4e867e-7291-4c22-800c-e9125b6b403f",
   "metadata": {},
   "source": [
    "# Comprehensions in Python\n",
    "\n",
    "- comprehensions provide a concise and readable way to create new iterables from existing ones. \n",
    "- They are similar to using a loop but with a more compact syntax.\n",
    "- While they work well for simple cases, it's essential to strike a balance to avoid unreadable code.\n",
    "- use for simple computations\n",
    "\n",
    "- Different types of comprehensions exist :\n",
    "    - lists\n",
    "    - dictionaries\n",
    "    - sets\n"
   ]
  },
  {
   "cell_type": "code",
   "execution_count": null,
   "id": "48dc981f-f14b-480c-a245-960bab09a802",
   "metadata": {},
   "outputs": [],
   "source": [
    "squares = []\n",
    "for num in range(1, 11):\n",
    "    if num % 2 == 0:\n",
    "        squares.append(num ** 2)\n",
    "print(squares)\n"
   ]
  },
  {
   "cell_type": "markdown",
   "id": "34da9ffa-62b2-440f-8563-e134da8cb5ed",
   "metadata": {},
   "source": [
    "## List Comprehension\n",
    "syntax - `[expr(item) for item in iterable [predicate] ]`\n",
    "\n",
    "\n",
    "[predicate] is optional"
   ]
  },
  {
   "cell_type": "code",
   "execution_count": null,
   "id": "419a16be-1500-4655-9a06-a36547a03581",
   "metadata": {},
   "outputs": [],
   "source": [
    "squares = [x ** 2 for x in range(1, 11) if x % 2 == 0]\n",
    "print(squares)\n"
   ]
  },
  {
   "cell_type": "markdown",
   "id": "0b7815bd-7ae0-492f-a2a4-662b1e12a596",
   "metadata": {},
   "source": [
    "## Set Comprehension\n",
    " syntax - \n",
    " `{ expr(item) for item in iterable}`"
   ]
  },
  {
   "cell_type": "code",
   "execution_count": null,
   "id": "3758c6f8-f127-421b-848c-85d9720ecd8d",
   "metadata": {},
   "outputs": [],
   "source": [
    "squares = set()\n",
    "for num in range(1, 11):\n",
    "    if num % 2 == 0:\n",
    "        squares.add(num ** 2)\n",
    "print(squares)"
   ]
  },
  {
   "cell_type": "code",
   "execution_count": null,
   "id": "dac815e8-079e-4884-9b9e-2b47ddf82908",
   "metadata": {},
   "outputs": [],
   "source": [
    "square_set = {x ** 2 for x in range(1, 11) if x % 2 == 0}\n",
    "print(square_set)"
   ]
  },
  {
   "cell_type": "markdown",
   "id": "0c91f842-f7b3-4be7-98e8-7c7af9dde779",
   "metadata": {},
   "source": [
    "## Dictionary comprehension\n",
    "syntax - `{ key_expr:value_expr for item in iterable }`"
   ]
  },
  {
   "cell_type": "code",
   "execution_count": null,
   "id": "c8e3ce87-424c-4b8f-a7c1-a2dcd476c8d8",
   "metadata": {},
   "outputs": [],
   "source": [
    "square_dict = {x: x ** 2 for x in range(1, 6)}\n",
    "print(square_dict)"
   ]
  },
  {
   "cell_type": "code",
   "execution_count": null,
   "id": "570be180-eb85-4c96-af37-ca60f637f7f6",
   "metadata": {},
   "outputs": [],
   "source": []
  },
  {
   "cell_type": "code",
   "execution_count": null,
   "id": "f15c9642-e09a-4f3f-a28e-6fdfc11ce12d",
   "metadata": {},
   "outputs": [],
   "source": []
  },
  {
   "cell_type": "markdown",
   "id": "d2ce12a4-6c09-497e-bf8e-830e9164a8db",
   "metadata": {},
   "source": [
    "## Practice Task\n",
    "\n",
    "#### Question 1\n",
    "Given the following data:"
   ]
  },
  {
   "cell_type": "code",
   "execution_count": null,
   "id": "e72835c5-9c18-4308-922b-676ac9987a28",
   "metadata": {},
   "outputs": [],
   "source": [
    "data = [\n",
    "    {'open': 100, 'high': 120, 'low': 90, 'close': 110},\n",
    "    {'open': 110, 'high': 130, 'low': 80, 'close': 120},\n",
    "    {'open': 120, 'high': 140, 'low': 70, 'close': 130},\n",
    "    {'open': 130, 'high': 150, 'low': 60, 'close': 140},\n",
    "]\n"
   ]
  },
  {
   "cell_type": "markdown",
   "id": "f746fdbf-8f71-4a58-a319-0514dbf7e65a",
   "metadata": {},
   "source": [
    "Re-write the following code using a comprehension:\n"
   ]
  },
  {
   "cell_type": "code",
   "execution_count": null,
   "id": "09e82af0-04a4-4585-b9b7-6d2b1266e2cd",
   "metadata": {},
   "outputs": [],
   "source": [
    "ranges = []\n",
    "for d in data:\n",
    "    ranges.append(d['high'] - d['low'])"
   ]
  },
  {
   "cell_type": "markdown",
   "id": "51332dff-6ac3-426c-ad1f-956e7b776b68",
   "metadata": {},
   "source": [
    "#### Question 2\n",
    "Find all the numbers from 1 to 100 (inclusive) that are divisible by any single digit except 1.\n",
    "\n",
    "For example, 22 is divisible by 2, so it should get included in the result. But 11 is not divisible by any of the digits 2-9, so it should not get included.\n",
    "\n",
    "\n",
    "Your solution should use comprehensions. (Hint: you may need nested loops in your comprehension)\n",
    "\n",
    "\n",
    "Next, find all the numbers from 1 to 100 (inclusive) that are not in the list of numbers you just generated.\n",
    "\n",
    "\n",
    "If your code works correctly, you should end up with this result:\n",
    "\n",
    "```\n",
    "{1, 11, 13, 17, 19, 23, 29, 31, 37, 41, 43, 47, 53, 59, 61, 67, 71, 73, 79, 83, 89, 97}\n",
    "```"
   ]
  },
  {
   "cell_type": "markdown",
   "id": "842f1dd1-6d4c-4f0f-920d-04fdf3527363",
   "metadata": {},
   "source": [
    "#### Question 3\n",
    "You are given the following data:"
   ]
  },
  {
   "cell_type": "code",
   "execution_count": null,
   "id": "619696fd-6f08-4276-a6c9-3b2e6ddc7d14",
   "metadata": {},
   "outputs": [],
   "source": [
    "data = [\n",
    "    {'symbol': 'ABCD', 'name': 'ABCD Company', 'ranking': 2, 'risk': 0.2},\n",
    "    {'symbol': 'BCDE', 'name': 'BCDE Company', 'ranking': 5, 'risk': 0.2},\n",
    "    {'symbol': 'CDEF', 'name': 'CDEF Company', 'ranking': 8, 'risk': 0.5},\n",
    "    {'symbol': 'DEFG', 'name': 'DEFG Company', 'ranking': 7, 'risk': 0.8},\n",
    "    {'symbol': 'EFGH', 'name': 'EFGH Company', 'ranking': 9, 'risk': 0.6},\n",
    "    {'symbol': 'FGHI', 'name': 'FGHI Company', 'ranking': 10, 'risk': 0.1},\n",
    "    {'symbol': 'GHIJ', 'name': 'GHIJ Company', 'ranking': 3, 'risk': 0.6},\n",
    "    {'symbol': 'HIJK', 'name': 'HIJK Company', 'ranking': 5, 'risk': 0.5},\n",
    "    {'symbol': 'IJKL', 'name': 'IJKL Company', 'ranking': 5, 'risk': 0.7},\n",
    "    {'symbol': 'JKLM', 'name': 'JKLM Company', 'ranking': 6, 'risk': 0.9},\n",
    "    {'symbol': 'KLMN', 'name': 'KLMN Company', 'ranking': 6, 'risk': 0.4},\n",
    "    {'symbol': 'LMNO', 'name': 'LMNO Company', 'ranking': 8, 'risk': 0.4},\n",
    "    {'symbol': 'MNOP', 'name': 'MNOP Company', 'ranking': 8, 'risk': 0.2},\n",
    "    {'symbol': 'NOPQ', 'name': 'NOPQ Company', 'ranking': 1, 'risk': 0.5},\n",
    "    {'symbol': 'OPQR', 'name': 'OPQR Company', 'ranking': 9, 'risk': 0.2},\n",
    "    {'symbol': 'PQRS', 'name': 'PQRS Company', 'ranking': 10, 'risk': 0.9},\n",
    "    {'symbol': 'QRST', 'name': 'QRST Company', 'ranking': 3, 'risk': 0.4},\n",
    "    {'symbol': 'RSTU', 'name': 'RSTU Company', 'ranking': 7, 'risk': 0.3},\n",
    "    {'symbol': 'STUV', 'name': 'STUV Company', 'ranking': 8, 'risk': 0.1},\n",
    "    {'symbol': 'TUVW', 'name': 'TUVW Company', 'ranking': 7, 'risk': 0.9}\n",
    "]"
   ]
  },
  {
   "cell_type": "markdown",
   "id": "b6347979-76e5-4fb1-9f8e-0fbbd23a0e66",
   "metadata": {},
   "source": [
    "Write code that does these two things:\n",
    "- creates a new list of of dictionaries where the ranking is at least `5`, and the risk is less than `0.6`\n",
    "- these dictionaries should contain the `symbol` and a calculated key, named `weighted`, which is the result of dividing `ranking` by `risk`. (You should round this value two decimal places).\n",
    "\n",
    "  Do **not** mutate the original `data` list or dictionaries in any way."
   ]
  },
  {
   "cell_type": "code",
   "execution_count": null,
   "id": "8c229498-502b-4834-9e00-e327b4982e89",
   "metadata": {},
   "outputs": [],
   "source": []
  },
  {
   "cell_type": "code",
   "execution_count": null,
   "id": "918edc21-09c6-4506-a3a7-f415d9304deb",
   "metadata": {},
   "outputs": [],
   "source": []
  }
 ],
 "metadata": {
  "kernelspec": {
   "display_name": "Python 3 (ipykernel)",
   "language": "python",
   "name": "python3"
  },
  "language_info": {
   "codemirror_mode": {
    "name": "ipython",
    "version": 3
   },
   "file_extension": ".py",
   "mimetype": "text/x-python",
   "name": "python",
   "nbconvert_exporter": "python",
   "pygments_lexer": "ipython3",
   "version": "3.12.2"
  }
 },
 "nbformat": 4,
 "nbformat_minor": 5
}
