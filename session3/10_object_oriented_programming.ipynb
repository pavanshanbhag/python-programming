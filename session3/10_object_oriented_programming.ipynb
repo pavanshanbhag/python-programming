{
 "cells": [
  {
   "cell_type": "markdown",
   "id": "a0f7d038-1b74-4da9-b949-30506e162faa",
   "metadata": {},
   "source": [
    "# Object Oriented Programming\n",
    "\n",
    "Object-oriented programming, also referred to as OOP, is a programming paradigm that includes, or relies on, the concept of classes and objects.\n",
    "\n",
    "- The basic idea of OOP is to divide a sophisticated program into a number of objects that talk to each other.\n",
    "\n",
    "- Objects in a program frequently represent real-world objects.\n",
    "  \n",
    "![](../static/oop_object.png)\n",
    "\n",
    "- The object is an entity that has a data(state) and behaviors (functionality) associated with it.\n",
    "\n",
    "- Where do these objects come from ? Ans - `classes`\n",
    "- class can be thought of as a blueprint for creating objects\n",
    "![](../static/oop_classes.png)\n",
    "![](../static/oop_object2.png)"
   ]
  },
  {
   "cell_type": "markdown",
   "id": "95cc0228-9bed-4243-a650-63e778c69c1d",
   "metadata": {},
   "source": [
    "### Declaration "
   ]
  },
  {
   "cell_type": "code",
   "execution_count": null,
   "id": "d2013657-2561-4147-a661-75a2b73881af",
   "metadata": {},
   "outputs": [],
   "source": [
    "class ClassName:\n",
    "    \n",
    "    pass"
   ]
  },
  {
   "cell_type": "markdown",
   "id": "350a2e1f-b358-4bce-abf3-e74c4a462369",
   "metadata": {},
   "source": [
    "### Creating an Object (Instance)"
   ]
  },
  {
   "cell_type": "code",
   "execution_count": null,
   "id": "75e3f148-1e3c-4c22-b86e-0725e69da37b",
   "metadata": {},
   "outputs": [],
   "source": [
    "obj = ClassName()  # creating a ClassName Object\n",
    "print(obj)"
   ]
  },
  {
   "cell_type": "markdown",
   "id": "884f474d-2b25-499b-8efb-bbce48612e33",
   "metadata": {},
   "source": [
    "### Accessing properties and assigning values\n",
    "- To access properties of an object, the dot notation is used:\n",
    "`\r\n",
    "object.proper`t- y\r\n",
    "There are two ways to assign values to properties of a clas    - .\r\n",
    "\r\n",
    "Assign values when defining the cl    - ass.\r\n",
    "Assign values in the main code."
   ]
  },
  {
   "cell_type": "code",
   "execution_count": null,
   "id": "51fc3207-9659-4e95-b565-8c8bb9886ffe",
   "metadata": {},
   "outputs": [],
   "source": [
    "class Employee:\n",
    "    # defining the properties and assigning them None\n",
    "    ID = None\n",
    "    salary = None\n",
    "    department = None\n",
    "\n",
    "\n",
    "# cerating an object of the Employee class\n",
    "Steve = Employee()\n",
    "\n",
    "# assigning values to properties of Steve - an object of the Employee class\n",
    "Steve.ID = 3789\n",
    "Steve.salary = 2500\n",
    "Steve.department = \"Human Resources\"\n",
    "\n",
    "# creating a new attribute for Steve\n",
    "Steve.title = \"Manager\" # added only to the object not to class\n",
    "\n",
    "# Printing properties of Steve\n",
    "print(\"ID =\", Steve.ID)\n",
    "print(\"Salary\", Steve.salary)\n",
    "print(\"Department:\", Steve.department)\n",
    "print(\"Title:\", Steve.title)\n",
    "\n",
    "Pavan = Employee()\n",
    "Pavan.ID = 111\n",
    "Pavan.salary = 5000\n",
    "Pavan.department = \"CCG\"\n",
    "\n",
    "print(\"ID =\", Pavan.ID)\n",
    "print(\"Salary\", Pavan.salary)\n",
    "print(\"Department:\", Pavan.department)\n",
    "print(\"Title:\", Pavan.title)"
   ]
  },
  {
   "cell_type": "markdown",
   "id": "ae81d940-3b10-47a5-a707-8410c67b31da",
   "metadata": {},
   "source": [
    "## Information hiding \n",
    "refers to the concept of hiding the inner workings of a class and simply providing an interface through which the outside world can interact with the class without knowing what’s going on inside.\n",
    "Data hiding can be divided into two primary components:\n",
    "\n",
    "- **Encapsulation** : refers to binding data and the methods to manipulate that data together in a single unit, that is, class.\n",
    "- **Abstraction** : involves hiding the complex implementation details and exposing only the essential features of an object. It simplifies the interaction with objects by providing a clear and concise interface.\n",
    "\n",
    "In summary, encapsulation is about bundling data and methods together, while abstraction is about hiding the implementation details and exposing only what is necessary for interaction."
   ]
  },
  {
   "cell_type": "code",
   "execution_count": null,
   "id": "912d53c8-c759-4945-9d77-b5e5544fdbf1",
   "metadata": {},
   "outputs": [],
   "source": [
    "\n",
    "class Movie:\n",
    "    \n",
    "    # defining the properties and assigning None to them\n",
    "    def __init__(self, title=None, year=None, genre=None):\n",
    "        self.__title = title\n",
    "        self.__year = year\n",
    "        self.__genre = genre\n",
    "\n",
    "    def get_title(self):\n",
    "        return self.__title\n",
    "\n",
    "    def set_title(self, value):\n",
    "        self.__title = value\n",
    "\n",
    "    def get_year(self):\n",
    "        return self.__year\n",
    "\n",
    "    def set_year(self, value):\n",
    "        self.__year = value\n",
    "\n",
    "    def get_genre(self):\n",
    "        return self.__genre\n",
    "\n",
    "    def set_genre(self, value):\n",
    "        self.__genre = value\n",
    "\n",
    "    def print_details(self):\n",
    "        print(\"Title:\", self.get_title())\n",
    "        print(\"Year:\", self.get_year())\n",
    "        print(\"Genre:\", self.get_genre())\n",
    "\n",
    "\n",
    "movie_v1 = Movie(\"The Lion King\", 1994, \"Adventure\")\n",
    "movie_v1.print_details()\n",
    "\n",
    "movie = Movie(\"The Lion King\", 1994)\n",
    "movie.set_genre(\"Dummy Genre\")\n",
    "movie.print_details()\n",
    "\n"
   ]
  },
  {
   "cell_type": "markdown",
   "id": "f9af7ab4-de1f-44fb-a289-ac5f976597e6",
   "metadata": {},
   "source": [
    "In Python, properties can be defined into two parts\n",
    "\n",
    "#### Class Variables\n",
    "The class variables are shared by all instances or objects of the classes. A change in the class variable will change the value of that property in all the objects of the class.\n",
    "#### Instance Variables\n",
    "\n",
    "The instance variables are unique to each instance or object of the class. A change in the instance variable will change the value of the property in that specific object only.\n"
   ]
  },
  {
   "cell_type": "code",
   "execution_count": null,
   "id": "ff4aa0ac-61df-44df-a60e-13da5323b4df",
   "metadata": {},
   "outputs": [],
   "source": [
    "class Player:\n",
    "    teamName = 'Liverpool'  # class variables\n",
    "\n",
    "    def __init__(self, name):\n",
    "        self.name = name  # creating instance variables\n",
    "\n",
    "\n",
    "p1 = Player('Mark')\n",
    "p2 = Player('Steve')\n",
    "\n",
    "print(\"Name:\", p1.name)\n",
    "print(\"Team Name:\", p1.teamName)\n",
    "print(\"Name:\", p2.name)\n",
    "print(\"Team Name:\", p2.teamName)"
   ]
  },
  {
   "cell_type": "code",
   "execution_count": null,
   "id": "fff22ef9-7e71-4aaf-940f-e9bcb865b2c7",
   "metadata": {},
   "outputs": [],
   "source": [
    "# Wrong use of class variables\n",
    "class Player:\n",
    "    formerTeams = []  # class variables\n",
    "    teamName = 'Liverpool'\n",
    "    def __init__(self, name):\n",
    "        self.name = name  # creating instance variables\n",
    "\n",
    "\n",
    "p1 = Player('Mark')\n",
    "p2 = Player('Steve')\n",
    "\n",
    "p1 = Player('Mark')\n",
    "p1.formerTeams.append('Barcelona') # wrong use of class variable\n",
    "p2 = Player('Steve')\n",
    "p2.formerTeams.append('Chelsea') # wrong use of class variable\n",
    "\n",
    "print(\"Name:\", p1.name)\n",
    "print(\"Team Name:\", p1.teamName)\n",
    "print(p1.formerTeams)\n",
    "print(\"Name:\", p2.name)\n",
    "print(\"Team Name:\", p2.teamName)\n",
    "print(p2.formerTeams)"
   ]
  },
  {
   "cell_type": "markdown",
   "id": "16d1e6f3-ed7a-4d96-8e5b-df681b9a9b0e",
   "metadata": {},
   "source": [
    "Class variables are useful when implementing properties that should be common and accessible to all class objects"
   ]
  },
  {
   "cell_type": "code",
   "execution_count": null,
   "id": "9213d30c-d1c6-4a7b-a994-91283a362d02",
   "metadata": {},
   "outputs": [],
   "source": [
    "class Player:\n",
    "    teamName = 'Liverpool'      # class variables\n",
    "    teamMembers = []\n",
    "\n",
    "    def __init__(self, name):\n",
    "        self.name = name        # creating instance variables\n",
    "        self.formerTeams = []\n",
    "        self.teamMembers.append(self.name)\n",
    "    \n",
    "\n",
    "p1 = Player('Mark')\n",
    "p2 = Player('Steve')\n",
    "\n",
    "print(\"Name:\", p1.name)\n",
    "print(\"Team Members:\")\n",
    "print(p1.teamMembers)\n",
    "print(\"\")\n",
    "print(\"Name:\", p2.name)\n",
    "print(\"Team Members:\")\n",
    "print(p2.teamMembers)\n"
   ]
  },
  {
   "cell_type": "markdown",
   "id": "36bedfb5-02e9-4707-b3aa-d3d705531137",
   "metadata": {},
   "source": [
    "There are three types of methods in Python:\n",
    "- instance methods : are accessed using the object name\n",
    "- class methods : are accessed using the class name and can be accessed without creating a class object.\n",
    "- static methods : Static methods can be accessed using the class name or the object name.\n",
    "\n",
    "major differences between functions and methods in Python is the first argument in the method definition (self), which is a pseudo-variable provides a reference to calling object."
   ]
  },
  {
   "cell_type": "code",
   "execution_count": null,
   "id": "6ac225b1-db5f-4eca-b39b-690b271b7b63",
   "metadata": {},
   "outputs": [],
   "source": [
    "class Employee:\n",
    "    # defining the initializer\n",
    "    def __init__(self, ID=None, salary=None, department=None):\n",
    "        self.ID = ID\n",
    "        self.salary = salary\n",
    "        self.department = department\n",
    "\n",
    "    def tax(self):\n",
    "        return (self.salary * 0.2)\n",
    "\n",
    "    def salaryPerDay(self):\n",
    "        return (self.salary / 30)\n",
    "\n",
    "\n",
    "# initializing an object of the Employee class\n",
    "Steve = Employee(3789, 2500, \"Human Resources\")\n",
    "\n",
    "# Printing properties of Steve\n",
    "print(\"ID =\", Steve.ID)\n",
    "print(\"Salary\", Steve.salary)\n",
    "print(\"Department:\", Steve.department)\n",
    "print(\"Tax paid by Steve:\", Steve.tax())\n",
    "print(\"Salary per day of Steve\", Steve.salaryPerDay())"
   ]
  },
  {
   "cell_type": "code",
   "execution_count": null,
   "id": "2f6932ee-f86a-48bb-9609-bc123ed705b6",
   "metadata": {},
   "outputs": [],
   "source": [
    "class Player:\n",
    "    teamName = 'Liverpool'  # class variables\n",
    "\n",
    "    def __init__(self, name):\n",
    "        self.name = name  # creating instance variables\n",
    "\n",
    "    @classmethod\n",
    "    def getTeamName(cls): \n",
    "        return cls.teamName\n",
    "\n",
    "\n",
    "print(Player.getTeamName())"
   ]
  },
  {
   "cell_type": "code",
   "execution_count": null,
   "id": "5c89f00b-958a-411a-8193-9c068c513d01",
   "metadata": {},
   "outputs": [],
   "source": [
    "class Player:\n",
    "    teamName = 'Liverpool'  # class variables\n",
    "\n",
    "    def __init__(self, name):\n",
    "        self.name = name  # creating instance variables\n",
    "\n",
    "    @staticmethod\n",
    "    def demo():  # no need self or cls\n",
    "        print(\"I am a static method.\")\n",
    "\n",
    "p1 = Player('lol')\n",
    "p1.demo()\n",
    "Player.demo()"
   ]
  },
  {
   "cell_type": "markdown",
   "id": "24e6d719-4493-4d4e-84ad-538eb0c500d7",
   "metadata": {},
   "source": [
    "*Decorators allow us to wrap another function in order to\n",
    "extend the behaviour of the wrapped function, without\n",
    "permanently modifying it"
   ]
  },
  {
   "cell_type": "markdown",
   "id": "5b24e2ed-78b3-407a-b11c-aee54b09d200",
   "metadata": {},
   "source": [
    "#### Access Modifiers\n",
    "In Python, we can impose access restrictions on different data members and member functions.\n",
    "There are two types of access modifiers in Python \n",
    "- Public attributes are those that can be accessed inside the class and outside the class.\n",
    "- Private attributes cannot be accessed directly from outside the class but can be accessed from inside the class.\n",
    "\n",
    "Technically in Python, all methods and properties in a class are publicly available by default. If we want to suggest that a method should not be used publicly, we have to declare it as private explicitly."
   ]
  },
  {
   "cell_type": "code",
   "execution_count": null,
   "id": "239f0e95-87f2-46fd-8420-876e3bceefae",
   "metadata": {},
   "outputs": [],
   "source": [
    "class Employee:\n",
    "    def __init__(self, ID, salary):\n",
    "        self.ID = ID  # public\n",
    "        self.__salary = salary  # salary is a private property\n",
    "\n",
    "Steve = Employee(3789, 2500)\n",
    "print(\"ID:\", Steve.ID)\n",
    "print(\"Salary:\", Steve.__salary)  # this will cause an error"
   ]
  },
  {
   "cell_type": "markdown",
   "id": "0fc90bf3-3ad0-42e5-9364-8bb2e8191e14",
   "metadata": {},
   "source": [
    "#### Accessing private attributes in the main code.\n",
    "If User believes it is absolutely necessary to access a private property or a method, they can access it using the _<ClassName> prefix for the property or method.\n",
    "\n",
    "ex for Above code - print(Steve._Employee__salary)"
   ]
  },
  {
   "cell_type": "code",
   "execution_count": null,
   "id": "25283966-9b05-44b6-b570-cd85501175d2",
   "metadata": {},
   "outputs": [],
   "source": [
    "# private method\n",
    "class Employee:\n",
    "    def __init__(self, ID, salary):\n",
    "        self.ID = ID\n",
    "        self.__salary = salary  # salary is a private property\n",
    "\n",
    "    def displaySalary(self):  # displaySalary is a public method\n",
    "        print(\"Salary:\", self.__salary)\n",
    "\n",
    "    def __displayID(self):  # displayID is a private method\n",
    "        print(\"ID:\", self.ID)\n",
    "\n",
    "\n",
    "Steve = Employee(3789, 2500)\n",
    "Steve.displaySalary()\n",
    "\n",
    "Steve.__displayID()  # this will generate an error"
   ]
  },
  {
   "cell_type": "markdown",
   "id": "d6f67b40-9fbf-4086-87ef-9c23f39811ef",
   "metadata": {},
   "source": [
    "## Inheritance\n",
    "Inheritance provides a way to create a new class from an existing class. The new class is a specialized version of the existing class such that it inherits all the non-private fields (variables) and methods of the existing class. The existing class is used as a starting point or as a base to create the new class.\n",
    "- **Syntax**\n",
    "```\n",
    "class ParentClass:\n",
    "    # attributes of the parent class\n",
    "\n",
    "\n",
    "class ChildClass(ParentClass):\n",
    "    # attributes of the child class\n",
    "```\n",
    "\n",
    "\n",
    "\n",
    "- In Python, whenever we create a class, it is, by default, a subclass of the built-in Python object class.\n",
    "- In inheritance, in order to create a new class based on an existing class, we use the following terminology:\n",
    "\n",
    "    - Parent Class (Super Class or Base Class): This class allows the reuse of its public properties in another class.\n",
    "    - Child Class (Sub Class or Derived Class): This class inherits or extends the superclas"
   ]
  },
  {
   "cell_type": "code",
   "execution_count": null,
   "id": "bec901f6-d798-4126-ac7f-1a106b965d07",
   "metadata": {},
   "outputs": [],
   "source": []
  },
  {
   "cell_type": "code",
   "execution_count": null,
   "id": "31b52f8c-f984-44c1-91ec-7dfa6d5f2125",
   "metadata": {},
   "outputs": [],
   "source": [
    "# Base class (Parent)\n",
    "class Vehicle():\n",
    "    def __init__(self, name, model):\n",
    "        self.name = name\n",
    "        self.model = model\n",
    "\n",
    "    def get_name(self):\n",
    "        print(\"The car is a\", self.name, self.model, end=\"\")\n",
    "\n",
    "\n",
    "# Single inheritance\n",
    "# FuelCar class extending from Vehicle class\n",
    "# Derived class (Child)\n",
    "class FuelCar(Vehicle):\n",
    "    def __init__(self, name, model, combust_type):\n",
    "        self.combust_type = combust_type\n",
    "        Vehicle.__init__(self, name, model)\n",
    "\n",
    "    def get_fuel_car(self):\n",
    "        super().get_name()\n",
    "        print(\", combust type is\", self.combust_type, end=\"\")\n",
    "\n",
    "\n",
    "print(\"Single inheritance:\")\n",
    "Fuel = FuelCar(\"Honda\", \"Accord\", \"Petrol\")\n",
    "Fuel.get_fuel_car()\n",
    "Fuel.get_name()\n",
    "print(\"\\n\")\n"
   ]
  },
  {
   "cell_type": "markdown",
   "id": "650a6e1d-a45c-4a02-98a0-ceeb67a8fb24",
   "metadata": {},
   "source": [
    "## Polymorphism\n",
    "polymorphism refers to the same object exhibiting different forms and behaviors."
   ]
  },
  {
   "cell_type": "code",
   "execution_count": null,
   "id": "0eecf27b-c9d3-407b-8246-71067260b12b",
   "metadata": {},
   "outputs": [],
   "source": [
    "class Animal:\n",
    "    def __init__(self):\n",
    "        pass\n",
    "\n",
    "    def print_animal(self):\n",
    "        print(\"I am from the Animal class\")\n",
    "\n",
    "    def print_animal_two(self):\n",
    "        print(\"I am from the Animal class\")\n",
    "\n",
    "\n",
    "class Lion(Animal):\n",
    "\n",
    "    def print_animal(self):  # method overriding\n",
    "        print(\"I am from the Lion class\")"
   ]
  },
  {
   "cell_type": "code",
   "execution_count": null,
   "id": "9f761250-29e8-4d09-a78f-9abc5bf6cab3",
   "metadata": {},
   "outputs": [],
   "source": [
    "\n",
    "lion = Lion()\n",
    "lion.print_animal()\n",
    "lion.print_animal_two()\n",
    "\n",
    "animal = Animal()\n",
    "animal.print_animal()"
   ]
  },
  {
   "cell_type": "markdown",
   "id": "94f65848-7f86-4598-942c-6744f1b930b8",
   "metadata": {},
   "source": [
    "**Method overloading**  Overloading refers to making a method perform different operations based on the nature of its arguments."
   ]
  },
  {
   "cell_type": "code",
   "execution_count": null,
   "id": "a0508421-3754-4728-913c-6c9c3f7f7746",
   "metadata": {},
   "outputs": [],
   "source": [
    "# method overloading\n",
    "class Sum:\n",
    "    def addition(self, a, b, c = 0):\n",
    "        return a + b + c\n",
    "\n",
    "sum = Sum()\n",
    "print(sum.addition(14, 35))\n",
    "print(sum.addition(31, 34, 43))"
   ]
  },
  {
   "cell_type": "code",
   "execution_count": null,
   "id": "9db7fc5a-d478-45bf-bdbc-53879dc86baf",
   "metadata": {},
   "outputs": [],
   "source": [
    "# Operator over loading\n",
    "class ComplexNumber:\n",
    "    # Constructor\n",
    "    def __init__(self):\n",
    "        self.real = 0\n",
    "        self.imaginary = 0\n",
    "        # Set value function\n",
    "\n",
    "    def set_value(self, real, imaginary):\n",
    "        self.real = real\n",
    "        self.imaginary = imaginary\n",
    "        # Overloading function for + operator\n",
    "\n",
    "    def __add__(self, c):\n",
    "        result = ComplexNumber()\n",
    "        result.real = self.real + c.real\n",
    "        result.imaginary = self.imaginary + c.imaginary\n",
    "        return result\n",
    "        # display results\n",
    "\n",
    "    def display(self):\n",
    "        print(\"(\", self.real, \"+\", self.imaginary, \"i)\")\n",
    "\n",
    "\n",
    "c1 = ComplexNumber()\n",
    "c1.set_value(11, 5)\n",
    "c2 = ComplexNumber()\n",
    "c2.set_value(2, 6)\n",
    "c3 = ComplexNumber()\n",
    "c3 = c1 + c2 \n",
    "c3.display()\n",
    "c4 = c1 * c2\n"
   ]
  },
  {
   "cell_type": "markdown",
   "id": "1834791a-9a97-4e6b-94f6-4c0b8ae65f38",
   "metadata": {
    "jp-MarkdownHeadingCollapsed": true
   },
   "source": [
    "## Dunder Methods in Python\n",
    "\n",
    "Dunder methods (short for \"__\" methods) are special methods in Python that have double underscores at the beginning and end of their names. They are also known as magic methods or special methods. These methods are used to define how objects of a class behave in certain situations.\n",
    "\n",
    "#### `__init__`\n",
    "\n",
    "The `__init__` method is used for initializing object attributes when an object is created.\n",
    "\n",
    "```python\n",
    "class MyClass:\n",
    "    def __init__(self, value):\n",
    "        self.value = value\n",
    "\n",
    "obj = MyClass(42)\n",
    "print(obj.value)  # Output: 42\n",
    "```\n",
    "\n",
    "#### `__len__`\n",
    "\n",
    "The `__len__` method is used to determine the length of an object.\n",
    "\n",
    "```python\n",
    "class MyList:\n",
    "    def __init__(self, items):\n",
    "        self.items = items\n",
    "\n",
    "    def __len__(self):\n",
    "        return len(self.items)\n",
    "\n",
    "my_list = MyList([1, 2, 3, 4, 5])\n",
    "print(len(my_list))  # Output: 5\n",
    "\n",
    "```\n",
    "\n",
    "#### `__add__`\n",
    "\n",
    "The `__add__` method is used to define the behavior of the + operator for objects\n",
    "\n",
    "```python\n",
    "class Point:\n",
    "    def __init__(self, x, y):\n",
    "        self.x = x\n",
    "        self.y = y\n",
    "\n",
    "    def __add__(self, other):\n",
    "        return Point(self.x + other.x, self.y + other.y)\n",
    "\n",
    "p1 = Point(1, 2)\n",
    "p2 = Point(3, 4)\n",
    "result = p1 + p2\n",
    "print(result.x, result.y)  # Output: 4 6\n",
    "\n",
    "```\n",
    "\n",
    "Dunder methods allow customization of how objects interact with operators and built-in functions, providing a powerful way to define the behavior of custom classes in Python."
   ]
  },
  {
   "cell_type": "markdown",
   "id": "d39db905-9270-43b8-b7a1-6f3f6f8cf495",
   "metadata": {},
   "source": [
    "## Practice Tasks\n",
    "1. Create student class that takes name & marks of 3 subjects as arguments in constructor. Then create a method to print the average\n",
    "2. Create Account class with 2 attributes - balance & account no.\r",
    "Create methods for debit, credit & printing the balance"
   ]
  },
  {
   "cell_type": "code",
   "execution_count": null,
   "id": "377333f6-ed7e-470a-bda7-dbbf8e37bbf6",
   "metadata": {},
   "outputs": [],
   "source": [
    "help(int)"
   ]
  },
  {
   "cell_type": "code",
   "execution_count": null,
   "id": "4c99fbac-9852-4e2b-8b53-5608407e09cc",
   "metadata": {},
   "outputs": [],
   "source": []
  }
 ],
 "metadata": {
  "kernelspec": {
   "display_name": "Python 3 (ipykernel)",
   "language": "python",
   "name": "python3"
  },
  "language_info": {
   "codemirror_mode": {
    "name": "ipython",
    "version": 3
   },
   "file_extension": ".py",
   "mimetype": "text/x-python",
   "name": "python",
   "nbconvert_exporter": "python",
   "pygments_lexer": "ipython3",
   "version": "3.12.2"
  }
 },
 "nbformat": 4,
 "nbformat_minor": 5
}
