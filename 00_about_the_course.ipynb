{
 "cells": [
  {
   "cell_type": "markdown",
   "id": "11df716a-43ca-47a4-a843-0c48be36c849",
   "metadata": {},
   "source": [
    "# Python Programming"
   ]
  },
  {
   "cell_type": "markdown",
   "id": "c60ed685",
   "metadata": {},
   "source": [
    "---\n",
    "## Course Scope\n",
    "\n",
    "This course is designed for individuals with beginner-level experience in Python, aiming to progress from basic to intermediate proficiency. Whether you are just starting with Python or have some foundational knowledge, this course will guide you through essential concepts and gradually elevate your skills to an intermediate level. The content is structured to provide a solid understanding of Python programming, building a strong foundation for further learning and application.\n",
    "\n",
    "Course is delivered by **Shanbhag, Pavan**.\n",
    "\n",
    "---\n"
   ]
  },
  {
   "cell_type": "markdown",
   "id": "0b36afbd",
   "metadata": {},
   "source": [
    "## Course content\n",
    "\n",
    "- **Session 1**:\n",
    "    - Introduction\n",
    "    - Installing and Running Python\n",
    "    - Basic Principles (Variables/Basic Data Types/Operators)\n",
    "\n",
    "- **Session 2**:\n",
    "    - Advanced Data Types\n",
    "    - Control Flow\n",
    "    - Function parameters and arguments\n",
    "    - Namespace, Scope, and Closure\n",
    "    - Documentation\n",
    "    - Regular Expressions\n",
    " \n",
    "- **Session 3**:\n",
    "    - argparse module\n",
    "    - Comprehensions\n",
    "    - Object-oriented programming principles\n",
    "    - Classes, methods, properties and attributes\n",
    "    - Memory Management in Python\n",
    "    - Exception handling\n",
    "\n",
    "- **Session 4**:\n",
    "    - Other Function Concepts\n",
    "    - Iterator and Generator\n",
    "    - Python Toolkit for Production [Optional]\n"
   ]
  },
  {
   "cell_type": "markdown",
   "id": "78d1a177",
   "metadata": {},
   "source": []
  },
  {
   "cell_type": "markdown",
   "id": "d088abdc-2d23-4296-85b4-aaca1a20080f",
   "metadata": {},
   "source": [
    "## Prerequisites\n",
    "\n",
    "**Operating System:** Windows/Mac/Linux\n",
    "\n",
    "- Ensure Python 3.8 or later is installed. \n",
    "  - For Linux/Mac, follow the installation instructions from the [official documentation](https://www.python.org/downloads/).\n",
    "  \n",
    "**Terminal/Command Prompt:**\n",
    "- Some familiarity with Terminal (Mac/Linux) or Command Prompt (Windows) is required.\n",
    "  - Basic commands needed to install and run Python:\n",
    "    - Opening/Terminating a shell\n",
    "    - Changing directory\n",
    "    - Listing contents of a directory\n",
    "    - Creating a directory\n",
    "  \n",
    "**Text Editor:**\n",
    "- Familiarity with using a text editor.\n",
    "\n",
    "**Programming Knowledge:**\n",
    "- Prior programming knowledge is helpful but not mandatory.\n"
   ]
  },
  {
   "cell_type": "code",
   "execution_count": null,
   "id": "962b15db",
   "metadata": {},
   "outputs": [],
   "source": []
  },
  {
   "cell_type": "markdown",
   "id": "bda258c0-c588-4bcd-986c-21e7ed002fa7",
   "metadata": {},
   "source": [
    "## What to expect?\n",
    "\n",
    "- Setup own develipment environment to write and run the code\n",
    "- Foundational Concepts: Master Python basics, including variables, control flow, and operators.\n",
    "- Explore advanced data types, functional programming, and basics of object-oriented principles.\n",
    "- Hands-On Practice: Apply your newfound skills to practical exercises, reinforcing your understanding through hands-on learning."
   ]
  },
  {
   "cell_type": "markdown",
   "id": "871a1c87",
   "metadata": {},
   "source": []
  }
 ],
 "metadata": {
  "kernelspec": {
   "display_name": "Python 3 (ipykernel)",
   "language": "python",
   "name": "python3"
  },
  "language_info": {
   "codemirror_mode": {
    "name": "ipython",
    "version": 3
   },
   "file_extension": ".py",
   "mimetype": "text/x-python",
   "name": "python",
   "nbconvert_exporter": "python",
   "pygments_lexer": "ipython3",
   "version": "3.12.2"
  }
 },
 "nbformat": 4,
 "nbformat_minor": 5
}
