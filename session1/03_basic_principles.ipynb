{
 "cells": [
  {
   "cell_type": "markdown",
   "metadata": {},
   "source": [
    "# Basic Principles"
   ]
  },
  {
   "cell_type": "markdown",
   "metadata": {},
   "source": [
    "## Getting help"
   ]
  },
  {
   "cell_type": "code",
   "execution_count": null,
   "metadata": {},
   "outputs": [],
   "source": [
    "help(print)"
   ]
  },
  {
   "cell_type": "markdown",
   "metadata": {},
   "source": [
    "## Python Character Set\n",
    "- Letters : A to Z, a to z.\n",
    "- Digit s:s  to -9.\n",
    "- Special Symbo l , ' \" | ; : ! ~ @ # $ % ^ ` & * ( ) _ + - = { } [ ] \\ etc .\n",
    "- White Spaces: White spaces like tab space, blank space, newline, and carriage return.\n",
    "- O Characters t Python can process all All ASCII and UNICODE charactes part of data or literalsset.\n"
   ]
  },
  {
   "cell_type": "code",
   "execution_count": null,
   "metadata": {},
   "outputs": [],
   "source": []
  },
  {
   "cell_type": "markdown",
   "metadata": {},
   "source": [
    "## Basic Data Types\n",
    "We are going to use literals to create integers, floats and booleans:"
   ]
  },
  {
   "cell_type": "code",
   "execution_count": null,
   "metadata": {},
   "outputs": [],
   "source": []
  },
  {
   "cell_type": "markdown",
   "metadata": {},
   "source": []
  },
  {
   "cell_type": "markdown",
   "metadata": {},
   "source": [
    "## Type\n",
    "\n",
    "🐍 [Offical Docs](https://docs.python.org/3/library/stdtypes.html)\n",
    "\n",
    "- Everything in Python is an object.\n",
    "- Every object in Python has `type`. You can get it using `type` class.\n",
    "- You can check if a object belongs to a specific `type` or `class` using `isinstance` built-in function.\n",
    "- `type` and `class` are synonyms to each other.\n",
    "\n",
    "```python\n",
    "<class> = type(<obj>)\n",
    "<bool> = isinstance(<obj>, <class>)\n",
    "```"
   ]
  },
  {
   "cell_type": "code",
   "execution_count": null,
   "metadata": {},
   "outputs": [],
   "source": [
    "print(f\"{type(10) = }\")\n",
    "print(f\"{type('Hello') = }\")\n",
    "print()\n",
    "print(f\"{isinstance(10, int) = }\")\n",
    "print(f\"{isinstance('Hello', int) = }\")"
   ]
  },
  {
   "cell_type": "markdown",
   "metadata": {},
   "source": [
    "## Operators\n",
    "\n",
    "Operators are used to perform arithmetic and logical operations on data. They enable us to manipulate and interpret data to produce useful outputs.\n",
    "\n",
    "The 5 main operator types in Python are:\n",
    "\n",
    "- arithmetic operators\n",
    "- comparison operators\n",
    "- assignment operators\n",
    "- logical operators\n",
    "- bitwise operators"
   ]
  },
  {
   "cell_type": "markdown",
   "metadata": {},
   "source": [
    "## Arithmetic Operators"
   ]
  },
  {
   "cell_type": "markdown",
   "metadata": {},
   "source": [
    "## Comparison Operators\n",
    "\n",
    "🐍 [Official Docs](https://docs.python.org/3/reference/expressions.html#comparisons)\n",
    "\n",
    "| Operator | Description                              | Example    | Result |\n",
    "|----------|------------------------------------------|------------|--------|\n",
    "| `==`     | Checks if two values are equal.         | `5 == 5`   | `True` |\n",
    "| `!=`     | Checks if two values are not equal.     | `5 != 3`   | `True` |\n",
    "| `<`      | Checks if the left operand is less than the right operand. | `3 < 5`    | `True` |\n",
    "| `>`      | Checks if the left operand is greater than the right operand. | `5 > 3`    | `True` |\n",
    "| `<=`     | Checks if the left operand is less than or equal to the right operand. | `3 <= 3`   | `True` |\n",
    "| `>=`     | Checks if the left operand is greater than or equal to the right operand. | `5 >= 3`   | `True` |\n"
   ]
  },
  {
   "cell_type": "markdown",
   "metadata": {},
   "source": [
    "## Assignment Operators"
   ]
  },
  {
   "cell_type": "markdown",
   "metadata": {},
   "source": [
    "## Logical Operators\n",
    "\n",
    "| Operator    | Description                                                                                             | Example                    | Result |\n",
    "|-------------|---------------------------------------------------------------------------------------------------------|----------------------------|--------|\n",
    "| `and`       | Returns `True` if both operands are `True`; otherwise, it returns `False`.                             | `True and False`           | `False` |\n",
    "| `or`        | Returns `True` if at least one operand is `True`; otherwise, it returns `False`.                       | `True or False`            | `True` |\n",
    "| `not`       | Returns the negation of the operand's truth value. If the operand is `True`, `not` returns `False`, and vice versa. | `not True`                 | `False` |\n",
    "| Short-Circuit Evaluation | Python uses short-circuit evaluation for logical operators. If the result can be determined by evaluating only the left operand, the right operand is not evaluated. | `True or some_function()` | The right operand is not evaluated. |\n",
    "|             |                                                                                                         | `False or some_function()` | The right operand is evaluated. |\n"
   ]
  },
  {
   "cell_type": "markdown",
   "metadata": {},
   "source": [
    "## Bitwise Operators:\n",
    "```python\n",
    "bitwise_and = 0b1100 & 0b1010  # Bitwise AND: 0b1000\n",
    "bitwise_or = 0b1100 | 0b1010  # Bitwise OR: 0b1110\n",
    "bitwise_xor = 0b1100 ^ 0b1010  # Bitwise XOR: 0b0110\n",
    "left_shift = 0b0001 << 2  # Left shift by 2 bits: 0b0100\n",
    "bitwise_not = ~0b1100  # Bitwise NOT: 0b0011 (in 2's complement)\n",
    "```"
   ]
  },
  {
   "cell_type": "code",
   "execution_count": null,
   "metadata": {},
   "outputs": [],
   "source": []
  }
 ],
 "metadata": {
  "kernelspec": {
   "display_name": "Python 3 (ipykernel)",
   "language": "python",
   "name": "python3"
  },
  "language_info": {
   "codemirror_mode": {
    "name": "ipython",
    "version": 3
   },
   "file_extension": ".py",
   "mimetype": "text/x-python",
   "name": "python",
   "nbconvert_exporter": "python",
   "pygments_lexer": "ipython3",
   "version": "3.12.2"
  }
 },
 "nbformat": 4,
 "nbformat_minor": 4
}
