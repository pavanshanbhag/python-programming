{
 "cells": [
  {
   "cell_type": "markdown",
   "metadata": {},
   "source": [
    "# Basic Principles"
   ]
  },
  {
   "cell_type": "markdown",
   "metadata": {},
   "source": [
    "## Getting help"
   ]
  },
  {
   "cell_type": "code",
   "execution_count": null,
   "metadata": {},
   "outputs": [],
   "source": [
    "help(print)"
   ]
  },
  {
   "cell_type": "code",
   "execution_count": null,
   "metadata": {},
   "outputs": [],
   "source": []
  },
  {
   "cell_type": "markdown",
   "metadata": {},
   "source": [
    "## Python Character Set\n",
    "- Letters : A to Z, a to z.\n",
    "- Digit s: 0  to 9.\n",
    "- Special Symbo l , ' \" | ; : ! ~ @ # $ % ^ ` & * ( ) _ + - = { } [ ] \\ etc .\n",
    "- White Spaces: White spaces like tab space, blank space, newline, and carriage return.\n",
    "- Other Characters : Python can process all All ASCII and UNICODE charactes part of data or literal.\n"
   ]
  },
  {
   "cell_type": "markdown",
   "metadata": {},
   "source": [
    "## Variables\n",
    "A Variable is a name given to a memory location"
   ]
  },
  {
   "cell_type": "code",
   "execution_count": 127,
   "metadata": {},
   "outputs": [],
   "source": [
    "name = \"Pavan Shanbhag\"\n",
    "location = \"Bangalore\"\n",
    "years_experience = 8\n",
    "price = 25.99\n",
    "buy_qty = 10"
   ]
  },
  {
   "cell_type": "markdown",
   "metadata": {
    "scrolled": true
   },
   "source": [
    "## Keywords \n",
    "some predefined and reserved words in Python that have special meanings. \n",
    "Keywords are used to define the syntax of the coding\n"
   ]
  },
  {
   "cell_type": "code",
   "execution_count": 135,
   "metadata": {},
   "outputs": [
    {
     "name": "stdout",
     "output_type": "stream",
     "text": [
      "\n",
      "Here is a list of the Python keywords.  Enter any keyword to get more help.\n",
      "\n",
      "False               class               from                or\n",
      "None                continue            global              pass\n",
      "True                def                 if                  raise\n",
      "and                 del                 import              return\n",
      "as                  elif                in                  try\n",
      "assert              else                is                  while\n",
      "async               except              lambda              with\n",
      "await               finally             nonlocal            yield\n",
      "break               for                 not                 \n",
      "\n"
     ]
    }
   ],
   "source": [
    "# get list of keywords in python\n",
    "help(\"keywords\")"
   ]
  },
  {
   "cell_type": "markdown",
   "metadata": {},
   "source": [
    "## Rules for Keywords in Python\n",
    "- Python keywords cannot be used as identifiers.\n",
    "- All the keywords in Python should be in lowercase except True and False."
   ]
  },
  {
   "cell_type": "markdown",
   "metadata": {},
   "source": [
    "## Rules for Naming Python Identifiers\n",
    "- It cannot be a reserved python keyword.\n",
    "- It should not contain white space.\n",
    "- It can be a combination of A-Z, a-z, 0-9, or underscore.\n",
    "- It should start with an alphabet character or an underscore ( _ ).\n",
    "- It should not contain any special character other than an underscore ( _ ).\n",
    "\n",
    "Valid identifiers:\n",
    "var1, _var1, _1_var, var_1\n",
    "\n",
    "Invalid Identifiers:\n",
    "!var1, 1var, 1_var, var#1, var 1\n",
    "\n",
    "- Identifier vs Variables : An Identifier is a name assigned to an entity in a program so that it can be identified distinctly in the program during its execution. On the other hand, a variable is a name assigned to a memory location that stores a value."
   ]
  },
  {
   "cell_type": "code",
   "execution_count": 131,
   "metadata": {},
   "outputs": [
    {
     "name": "stdout",
     "output_type": "stream",
     "text": [
      "test\n"
     ]
    }
   ],
   "source": [
    "_var ='test'\n",
    "print(_var)"
   ]
  },
  {
   "cell_type": "code",
   "execution_count": 132,
   "metadata": {},
   "outputs": [
    {
     "ename": "SyntaxError",
     "evalue": "invalid decimal literal (3478113432.py, line 1)",
     "output_type": "error",
     "traceback": [
      "\u001b[1;36m  Cell \u001b[1;32mIn[132], line 1\u001b[1;36m\u001b[0m\n\u001b[1;33m    1_var ='test'\u001b[0m\n\u001b[1;37m     ^\u001b[0m\n\u001b[1;31mSyntaxError\u001b[0m\u001b[1;31m:\u001b[0m invalid decimal literal\n"
     ]
    }
   ],
   "source": [
    "1_var ='test'\n",
    "print(1_var)"
   ]
  },
  {
   "cell_type": "markdown",
   "metadata": {},
   "source": [
    "## Basic Data Types\n",
    "We are going to use literals to create integers, floats and booleans:"
   ]
  },
  {
   "cell_type": "code",
   "execution_count": null,
   "metadata": {},
   "outputs": [],
   "source": [
    "True"
   ]
  },
  {
   "cell_type": "code",
   "execution_count": null,
   "metadata": {},
   "outputs": [],
   "source": [
    "type(1)"
   ]
  },
  {
   "cell_type": "code",
   "execution_count": null,
   "metadata": {},
   "outputs": [],
   "source": [
    "type(1.0)"
   ]
  },
  {
   "cell_type": "code",
   "execution_count": null,
   "metadata": {},
   "outputs": [],
   "source": [
    "type(True)"
   ]
  },
  {
   "cell_type": "code",
   "execution_count": null,
   "metadata": {},
   "outputs": [],
   "source": [
    "type(\"Name\")"
   ]
  },
  {
   "cell_type": "code",
   "execution_count": null,
   "metadata": {},
   "outputs": [],
   "source": [
    "type(\"\"\"Name\"\"\")"
   ]
  },
  {
   "cell_type": "code",
   "execution_count": null,
   "metadata": {},
   "outputs": [],
   "source": [
    "type(\"Name\\\"s\")"
   ]
  },
  {
   "cell_type": "code",
   "execution_count": null,
   "metadata": {},
   "outputs": [],
   "source": [
    "name = 'Pavan' \n",
    "#print(type(name))\n",
    "print(id(name))\n",
    "print(ascii(name))\n",
    "\n",
    "name = 15\n",
    "#test2 = name \n",
    "\n",
    "#print(type(name))\n",
    "print(id(name))\n",
    "\n",
    "test2 = 'Pavan' \n",
    "print(id(test2))\n",
    "print(name)"
   ]
  },
  {
   "cell_type": "code",
   "execution_count": null,
   "metadata": {},
   "outputs": [],
   "source": [
    "False"
   ]
  },
  {
   "cell_type": "code",
   "execution_count": null,
   "metadata": {},
   "outputs": [],
   "source": [
    "1"
   ]
  },
  {
   "cell_type": "code",
   "execution_count": null,
   "metadata": {},
   "outputs": [],
   "source": [
    "1.0"
   ]
  },
  {
   "cell_type": "markdown",
   "metadata": {},
   "source": [
    "## Type\n",
    "\n",
    "🐍 [Offical Docs](https://docs.python.org/3/library/stdtypes.html)\n",
    "\n",
    "- Everything in Python is an object.\n",
    "- Every object in Python has `type`. You can get it using `type` class.\n",
    "- You can check if a object belongs to a specific `type` or `class` using `isinstance` built-in function.\n",
    "- `type` and `class` are synonyms to each other.\n",
    "\n",
    "```python\n",
    "<class> = type(<obj>)\n",
    "<bool> = isinstance(<obj>, <class>)\n",
    "```"
   ]
  },
  {
   "cell_type": "code",
   "execution_count": null,
   "metadata": {},
   "outputs": [],
   "source": [
    "print(f\"{type(10) = }\")\n",
    "print(f\"{type('Hello') = }\")\n",
    "print()\n",
    "print(f\"{isinstance(10, int) = }\")\n",
    "print(f\"{isinstance('Hello', int) = }\")"
   ]
  },
  {
   "cell_type": "code",
   "execution_count": null,
   "metadata": {},
   "outputs": [],
   "source": []
  },
  {
   "cell_type": "code",
   "execution_count": null,
   "metadata": {},
   "outputs": [],
   "source": [
    "# this is a comment\n",
    "\n",
    "\"\"\"\n",
    "This is multiline comment\n",
    "\"\"\""
   ]
  },
  {
   "cell_type": "code",
   "execution_count": null,
   "metadata": {},
   "outputs": [],
   "source": [
    "var= None\n",
    "print(type(var))"
   ]
  },
  {
   "cell_type": "code",
   "execution_count": null,
   "metadata": {},
   "outputs": [],
   "source": [
    "thispythonvariabledemo = 'test'"
   ]
  },
  {
   "cell_type": "code",
   "execution_count": null,
   "metadata": {},
   "outputs": [],
   "source": [
    "print(\"this is first line \\t and this is supposed to be 2nd line\")"
   ]
  },
  {
   "cell_type": "code",
   "execution_count": null,
   "metadata": {},
   "outputs": [],
   "source": [
    "f\"My Variable Value is {thispythonvariabledemo}\""
   ]
  },
  {
   "cell_type": "code",
   "execution_count": null,
   "metadata": {},
   "outputs": [],
   "source": [
    "\"My Variable Value is {}\".format(thispythonvariabledemo)"
   ]
  },
  {
   "cell_type": "code",
   "execution_count": null,
   "metadata": {},
   "outputs": [],
   "source": [
    "# not recommeded for logging framework"
   ]
  },
  {
   "cell_type": "markdown",
   "metadata": {},
   "source": [
    "1.  ()  \n",
    "2. **    \n",
    "3. %,*,/,//   \n",
    "4. +,-\n"
   ]
  },
  {
   "cell_type": "code",
   "execution_count": null,
   "metadata": {},
   "outputs": [],
   "source": [
    "# BODMAS\n",
    "(1+2)*3"
   ]
  },
  {
   "cell_type": "code",
   "execution_count": null,
   "metadata": {},
   "outputs": [],
   "source": [
    "2**3"
   ]
  },
  {
   "cell_type": "code",
   "execution_count": null,
   "metadata": {},
   "outputs": [],
   "source": [
    "110/2"
   ]
  },
  {
   "cell_type": "code",
   "execution_count": null,
   "metadata": {},
   "outputs": [],
   "source": [
    "17//11"
   ]
  },
  {
   "cell_type": "code",
   "execution_count": null,
   "metadata": {},
   "outputs": [],
   "source": [
    "17/11"
   ]
  },
  {
   "cell_type": "code",
   "execution_count": null,
   "metadata": {},
   "outputs": [],
   "source": [
    "8%3"
   ]
  },
  {
   "cell_type": "code",
   "execution_count": null,
   "metadata": {},
   "outputs": [],
   "source": [
    "res = 1+1.0\n",
    "print(type(res))"
   ]
  },
  {
   "cell_type": "code",
   "execution_count": null,
   "metadata": {},
   "outputs": [],
   "source": [
    "10-98"
   ]
  },
  {
   "cell_type": "code",
   "execution_count": null,
   "metadata": {},
   "outputs": [],
   "source": [
    "\"test\"+8"
   ]
  },
  {
   "cell_type": "code",
   "execution_count": null,
   "metadata": {},
   "outputs": [],
   "source": [
    "test = 10 "
   ]
  },
  {
   "cell_type": "markdown",
   "metadata": {},
   "source": [
    "## Operators\n",
    "\n",
    "\n",
    "Operators are used to perform arithmetic and logical operations on data. They enable us to manipulate and interpret data to produce useful outputs.\n",
    "Operators are represented by characters or special keywords.\n",
    "- In general, Python's operators follow the in-fix or prefix notations.\n",
    "- In-fix operators appear between two operands (values on which the operator acts) and hence, are usually known as binary operators\n",
    "- A prefix operator usually works on one operand and appears before it. Hence, prefix operators are known as unary operators\n",
    "\n",
    "The 5 main operator types in Python are:\n",
    "\n",
    "- arithmetic operators\n",
    "- comparison operators\n",
    "- assignment operators\n",
    "- logical operators\n",
    "- bitwise operators"
   ]
  },
  {
   "cell_type": "markdown",
   "metadata": {},
   "source": [
    "## Arithmetic Operators\n",
    "Arithmetic operators are used with numeric values to perform common mathematical operations:\n",
    "\n",
    "| Operator | Description                        | Syntax  |\n",
    "|----------|------------------------------------|---------|\n",
    "| +        | Addition: adds two operands         | x + y   |\n",
    "| -        | Subtraction: subtracts two operands | x - y   |\n",
    "| *        | Multiplication: multiplies two operands | x * y |\n",
    "| /        | Division (float): divides the first operand by the second | x / y |\n",
    "| //       | Division (floor): divides the first operand by the second | x // y |\n",
    "| %        | Modulus: returns the remainder when the first operand is divided by the second | x % y |\n",
    "| **       | Power (Exponent): Returns first raised to power second | x ** y |"
   ]
  },
  {
   "cell_type": "markdown",
   "metadata": {},
   "source": []
  },
  {
   "cell_type": "code",
   "execution_count": null,
   "metadata": {},
   "outputs": [],
   "source": []
  },
  {
   "cell_type": "code",
   "execution_count": null,
   "metadata": {},
   "outputs": [],
   "source": []
  },
  {
   "cell_type": "markdown",
   "metadata": {},
   "source": [
    "x ** y |\r\n"
   ]
  },
  {
   "cell_type": "markdown",
   "metadata": {},
   "source": [
    "## Comparison Operators\n",
    "\n",
    "🐍 [Official Docs](https://docs.python.org/3/reference/expressions.html#comparisons)\n",
    "\n",
    "- Comparison operators can be used to compare values in mathematical terms.\n",
    "\n",
    "- The result of a comparison is always a bool.\r\n",
    "- \r\n",
    "If the comparison is correct, the value of the bool will be True. Otherwise, its value will be False.\n",
    "\n",
    "| Operator | Description                              | Example    | Result |\n",
    "|----------|------------------------------------------|------------|--------|\n",
    "| `==`     | Checks if two values are equal.         | `5 == 5`   | `True` |\n",
    "| `!=`     | Checks if two values are not equal.     | `5 != 3`   | `True` |\n",
    "| `<`      | Checks if the left operand is less than the right operand. | `3 < 5`    | `True` |\n",
    "| `>`      | Checks if the left operand is greater than the right operand. | `5 > 3`    | `True` |\n",
    "| `<=`     | Checks if the left operand is less than or equal to the right operand. | `3 <= 3`   | `True` |\n",
    "| `>=`     | Checks if the left operand is greater than or equal to the right operand. | `5 >= 3`   | `True` |\n"
   ]
  },
  {
   "cell_type": "code",
   "execution_count": null,
   "metadata": {},
   "outputs": [],
   "source": [
    "num1 = 5\n",
    "num2 = 10\n",
    "num3 = 10\n",
    "res = num1 + num2\n",
    "print(res)\n",
    "print(5>10)\n",
    "print(5>10)\n",
    "print(num1!=num3)"
   ]
  },
  {
   "cell_type": "code",
   "execution_count": null,
   "metadata": {},
   "outputs": [],
   "source": []
  },
  {
   "cell_type": "code",
   "execution_count": null,
   "metadata": {},
   "outputs": [],
   "source": []
  },
  {
   "cell_type": "code",
   "execution_count": null,
   "metadata": {},
   "outputs": [],
   "source": []
  },
  {
   "cell_type": "code",
   "execution_count": null,
   "metadata": {},
   "outputs": [],
   "source": []
  },
  {
   "cell_type": "markdown",
   "metadata": {},
   "source": [
    "## Assignment Operators"
   ]
  },
  {
   "cell_type": "markdown",
   "metadata": {},
   "source": [
    "| Operator | Name                  | Example                           |\r\n",
    "|----------|-----------------------|-----------------------------------|\r\n",
    "| =        | Assignment Operator   | a = 7                             |\r\n",
    "| +=       | Addition Assignment   | a += 1  # a = a + 1               |\r\n",
    "| -=       | Subtraction Assignment| a -= 3  # a = a - 3               |\r\n",
    "| *=       | Multiplication Assignment | a *= 4  # a = a * 4             |\r\n",
    "| /=       | Division Assignment   | a /= 3  # a = a / 3               |\r\n",
    "| %=       | Remainder Assignment   | a %= 10 # a = a % 10              |\r\n",
    "| **=      | Exponent Assignment    | a **= 10 # a = a ** 10            |\r\n"
   ]
  },
  {
   "cell_type": "code",
   "execution_count": null,
   "metadata": {},
   "outputs": [],
   "source": [
    "year = 2020\n",
    "print(year)"
   ]
  },
  {
   "cell_type": "code",
   "execution_count": null,
   "metadata": {},
   "outputs": [],
   "source": [
    "year = year + 1\n",
    "print(year)"
   ]
  },
  {
   "cell_type": "code",
   "execution_count": null,
   "metadata": {},
   "outputs": [],
   "source": [
    "year += 1\n",
    "print(year)"
   ]
  },
  {
   "cell_type": "markdown",
   "metadata": {},
   "source": [
    "-=\n",
    "|=\n",
    "&=\n",
    "^= \n",
    ">>=\n",
    "<<="
   ]
  },
  {
   "cell_type": "code",
   "execution_count": null,
   "metadata": {},
   "outputs": [],
   "source": [
    "num = 10\n",
    "print(num)"
   ]
  },
  {
   "cell_type": "code",
   "execution_count": null,
   "metadata": {},
   "outputs": [],
   "source": [
    "num **= 5\n",
    "print(num)"
   ]
  },
  {
   "cell_type": "code",
   "execution_count": null,
   "metadata": {},
   "outputs": [],
   "source": [
    "a=b=15\n",
    "b = 10\n",
    "\n",
    "a **= b\n",
    "print(a)"
   ]
  },
  {
   "cell_type": "code",
   "execution_count": null,
   "metadata": {},
   "outputs": [],
   "source": [
    "a = 30\n",
    "b = 15\n",
    "a &= b\n",
    "print(a,b)"
   ]
  },
  {
   "cell_type": "markdown",
   "metadata": {},
   "source": [
    "11110 -- a\n",
    "01111 -- b\n",
    "----------\n",
    "01110 -- 14"
   ]
  },
  {
   "cell_type": "markdown",
   "metadata": {},
   "source": [
    "## Logical Operators\n",
    "\n",
    "| Operator    | Description                                                                                             | Example                    | Result |\n",
    "|-------------|---------------------------------------------------------------------------------------------------------|----------------------------|--------|\n",
    "| `and`       | Returns `True` if both operands are `True`; otherwise, it returns `False`.                             | `True and False`           | `False` |\n",
    "| `or`        | Returns `True` if at least one operand is `True`; otherwise, it returns `False`.                       | `True or False`            | `True` |\n",
    "| `not`       | Returns the negation of the operand's truth value. If the operand is `True`, `not` returns `False`, and vice versa. | `not True`                 | `False` |\n",
    "| Short-Circuit Evaluation | Python uses short-circuit evaluation for logical operators. If the result can be determined by evaluating only the left operand, the right operand is not evaluated. | `True or some_function()` | The right operand is not evaluated. |\n",
    "|             |                                                                                                         | `False or some_function()` | The right operand is evaluated. |\n"
   ]
  },
  {
   "cell_type": "code",
   "execution_count": 126,
   "metadata": {},
   "outputs": [
    {
     "name": "stdout",
     "output_type": "stream",
     "text": [
      "True\n",
      "False\n",
      "True\n"
     ]
    }
   ],
   "source": [
    "# OR Expression\n",
    "my_bool = True or False\n",
    "print(my_bool)\n",
    "\n",
    "# AND Expression\n",
    "my_bool = True and False\n",
    "print(my_bool)\n",
    "\n",
    "# NOT expression\n",
    "my_bool = False\n",
    "print(not my_bool)"
   ]
  },
  {
   "cell_type": "code",
   "execution_count": null,
   "metadata": {},
   "outputs": [],
   "source": [
    "print(bool(None))"
   ]
  },
  {
   "cell_type": "code",
   "execution_count": null,
   "metadata": {},
   "outputs": [],
   "source": [
    "print(\"Pavan\" and \"test\")"
   ]
  },
  {
   "cell_type": "code",
   "execution_count": null,
   "metadata": {},
   "outputs": [],
   "source": [
    "if \"Pavan\" and \"test\":\n",
    "    print('Its True')"
   ]
  },
  {
   "cell_type": "code",
   "execution_count": null,
   "metadata": {},
   "outputs": [],
   "source": []
  },
  {
   "cell_type": "markdown",
   "metadata": {},
   "source": [
    "## Bitwise Operators:\n",
    "\n",
    "In programming, all data is actually made up of 0s and 1s known as bits. Bitwise operators allow us to perform bit-related operations on values.\n",
    "\n",
    "| Operator | Name           | Description                                                 |\r\n",
    "|----------|----------------|-------------------------------------------------------------|\r\n",
    "| &        | AND            | Sets each bit to 1 if both bits are 1                         |\r\n",
    "| \\|       | OR             | Sets each bit to 1 if one of two bits is 1                    |\r\n",
    "| ^        | XOR            | Sets each bit to 1 if only one of two bits is 1               |\r\n",
    "| ~        | NOT            | Inverts all the bits                                        |\r\n",
    "| <<       | Zero fill left shift | Shift left by pushing zeros in from the right and let the leftmost bits fall off |\r\n",
    "| >>       | Signed right shift | Shift right by pushing copies of the leftmost bit in from the left, and let the rightmost bits fall ent)\n",
    "```"
   ]
  },
  {
   "cell_type": "markdown",
   "metadata": {},
   "source": [
    "```python\n",
    "bitwise_and = 0b1100 & 0b1010  # Bitwise AND: 0b1000\n",
    "bitwise_or = 0b1100 | 0b1010  # Bitwise OR: 0b1110\n",
    "bitwise_xor = 0b1100 ^ 0b1010  # Bitwise XOR: 0b0110\n",
    "left_shift = 0b0001 << 2  # Left shift by 2 bits: 0b0100\n",
    "bitwise_not = ~0b1100  # Bitwise NOT: 0b0011 (in 2's complement)\n",
    "```"
   ]
  },
  {
   "cell_type": "code",
   "execution_count": 125,
   "metadata": {},
   "outputs": [
    {
     "name": "stdout",
     "output_type": "stream",
     "text": [
      "0\n",
      "30\n",
      "30\n",
      "-11\n",
      "80\n",
      "2\n"
     ]
    }
   ],
   "source": [
    "num1 = 10  # Binary value = 01010\n",
    "num2 = 20  # Binary Value = 10100\n",
    "\n",
    "print(num1 & num2)   # 0   -> Binary value = 00000\n",
    "print(num1 | num2)   # 30  -> Binary value = 11110\n",
    "print(num1 ^ num2)   # 30  -> Binary value = 11110\n",
    "print(~num1)         # -11 -> Binary value = -(1011)\n",
    "print(num1 << 3)     # 80  -> Binary value = 0101 0000\n",
    "print(num2 >> 3)     # 2   -> Binary value = 0010"
   ]
  },
  {
   "cell_type": "code",
   "execution_count": null,
   "metadata": {},
   "outputs": [],
   "source": []
  },
  {
   "cell_type": "markdown",
   "metadata": {},
   "source": [
    "## Input in Python\n",
    "input() statement is used to accept values (using keyboard) from user\n",
    "\n",
    "- input() # result is always a str convert it to required type if needed\n",
    "- int(input()) # int\n",
    "- float(input()) # float"
   ]
  },
  {
   "cell_type": "code",
   "execution_count": 137,
   "metadata": {},
   "outputs": [
    {
     "name": "stdin",
     "output_type": "stream",
     "text": [
      "Enter Age 20\n"
     ]
    },
    {
     "name": "stdout",
     "output_type": "stream",
     "text": [
      "20\n",
      "<class 'int'>\n"
     ]
    }
   ],
   "source": [
    "age = int(input(\"Enter Age\"))\n",
    "print(age)\n",
    "print(type(age))"
   ]
  },
  {
   "cell_type": "code",
   "execution_count": 140,
   "metadata": {},
   "outputs": [
    {
     "name": "stdin",
     "output_type": "stream",
     "text": [
      "Enter Name Pavan\n"
     ]
    },
    {
     "name": "stdout",
     "output_type": "stream",
     "text": [
      "Pavan\n",
      "<class 'str'>\n"
     ]
    }
   ],
   "source": [
    "name = input(\"Enter Name\")\n",
    "print(name)\n",
    "print(type(name))"
   ]
  },
  {
   "cell_type": "code",
   "execution_count": null,
   "metadata": {},
   "outputs": [],
   "source": []
  },
  {
   "cell_type": "markdown",
   "metadata": {},
   "source": [
    "## Practice Tasks\n",
    "\n",
    "1. Write a Program to input 2 numbers & print their sum\n",
    "2. Write a Program to input side of a square and print its area (hint : area = lenght*breadth)\n",
    "3. Write a Program to input 2 floating point numbers & print their average\n",
    "4. Write a program to input 2 integer numbers, a and b. Print True if a is greate than or equal to b. If not print False"
   ]
  },
  {
   "cell_type": "code",
   "execution_count": null,
   "metadata": {},
   "outputs": [],
   "source": []
  }
 ],
 "metadata": {
  "kernelspec": {
   "display_name": "Python 3 (ipykernel)",
   "language": "python",
   "name": "python3"
  },
  "language_info": {
   "codemirror_mode": {
    "name": "ipython",
    "version": 3
   },
   "file_extension": ".py",
   "mimetype": "text/x-python",
   "name": "python",
   "nbconvert_exporter": "python",
   "pygments_lexer": "ipython3",
   "version": "3.12.2"
  }
 },
 "nbformat": 4,
 "nbformat_minor": 4
}
