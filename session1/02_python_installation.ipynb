{
 "cells": [
  {
   "cell_type": "markdown",
   "id": "11df716a-43ca-47a4-a843-0c48be36c849",
   "metadata": {},
   "source": [
    "# Python Installation"
   ]
  },
  {
   "cell_type": "markdown",
   "id": "fab1fe7f-8af4-489c-8b8e-de258bd450e8",
   "metadata": {},
   "source": [
    "## Which Python version are we using?"
   ]
  },
  {
   "cell_type": "markdown",
   "id": "74a3f2d6",
   "metadata": {},
   "source": [
    "<div style=\"text-align: center\"><strong>Python3.8+</strong></div>"
   ]
  },
  {
   "cell_type": "markdown",
   "id": "e8c2ef34-62bc-405d-b091-7a4177a73d39",
   "metadata": {},
   "source": [
    "| Branch | Schedule                                       | Status        | First release | End of life  | Release manager       |\n",
    "| ------ | ---------------------------------------------- | ------------- | ------------- | ------------ | --------------------- |\n",
    "| main   | [PEP 719](https://peps.python.org/pep-0719/)   | feature       | _2024-10-01_  | _2029-10_    | Thomas Wouters        |\n",
    "| 3.12   | [PEP 693](https://peps.python.org/pep-0693/)   | prerelease    | _2023-10-02_  | _2028-10_    | Thomas Wouters        |\n",
    "| 3.11   | [PEP 664](https://peps.python.org/pep-0664/)   | bugfix        | 2022-10-24    | _2027-10_    | Pablo Galindo Salgado |\n",
    "| 3.10   | [PEP 619](https://peps.python.org/pep-0619/)   | security      | 2021-10-04    | _2026-10_    | Pablo Galindo Salgado |\n",
    "| 3.9    | [PEP 596](https://peps.python.org/pep-0596/)   | security      | 2020-10-05    | _2025-10_    | Łukasz Langa          |\n",
    "| 3.8    | [PEP 569](https://peps.python.org/pep-0569/)   | security      | 2019-10-14    | _2024-10_    | Łukasz Langa          |\n",
    "\n",
    "<div style=\"text-align: center\"><a href=\"https://devguide.python.org/versions/\">Source for the above table</a></div>"
   ]
  },
  {
   "cell_type": "markdown",
   "id": "dcd5f65d",
   "metadata": {},
   "source": [
    "# Python Installation\n",
    "\n",
    "Follow the guide in the official Python documentation on how to do it for different operating systems: [Windows](https://docs.python.org/3/using/windows.html#installation-steps), [Mac](https://docs.python.org/3/using/mac.html#getting-and-installing-macpython), or [Unix](https://docs.python.org/3/using/unix.html#getting-and-installing-the-latest-version-of-python) systems."
   ]
  },
  {
   "cell_type": "markdown",
   "id": "0f377230-a4b2-4b42-a1f3-fb6e63ddfd8f",
   "metadata": {},
   "source": [
    "## Running different Python version in Windows\n",
    "\n",
    "![](../static/python_launcher_windows.png)"
   ]
  },
  {
   "cell_type": "markdown",
   "id": "6ded9297",
   "metadata": {},
   "source": [
    "## Running different Python version in Linux\n",
    "\n",
    "![](../static/python_launcher_ubuntu.png)"
   ]
  },
  {
   "cell_type": "markdown",
   "id": "c2640e85",
   "metadata": {},
   "source": [
    "## Download and extract the course material\n",
    "1. If Git is installed on the system, clone the repository by running: \n",
    "    ```bash\n",
    "    git clone https://github.com/pavanshanbhag/python-programming.git\n",
    "    ```\n",
    "   Otherwise, download the zip from [Python-Programming](https://github.com/pavanshanbhag/python-programming/archive/refs/heads/main.zip) and extract the content.\n",
    "\n",
    "2. Rename the root directory to `python-programming`. This step is necessary only if the extracted folder has a different name.\n",
    "\n",
    "** Root Folder Structure:**\n",
    "```plaintext\n",
    "    python-programming\n",
    "        |-- session1\n",
    "        |   |-- xyz.ipynb\n",
    "        |-- session2\n",
    "        |   |-- xyz.ipynb\n",
    "        |-- session3\n",
    "        |-- session4\n",
    "        |-- static\n",
    "        |-- .gitignore\n",
    "        |-- README.md"
   ]
  },
  {
   "cell_type": "markdown",
   "id": "f8d9ed69",
   "metadata": {},
   "source": [
    "## 3rd Party Libraries in Python\n",
    "\n",
    "- Many 3rd party libraries exist, acting as add-ons to Python for more specialized functionality.\n",
    "- These are essentially a bunch of files added to your Python \"installation.\"\n",
    "\n",
    "- 3rd party libraries often rely on other 3rd party libraries or might have specific releases for specific Python versions.\n",
    "\n",
    "- This can create conflicts!\n",
    "  - Example:\n",
    "    - `my_app_1` relies on `requests==2.22.0` (Breaks with `requests==2.23.0` and higher)   \n",
    "    - `my_app_2` relies on `requests==2.23.0` (Breaks with `requests==2.22.0` and lower)\n",
    "  \n",
    "- Solution : since Python is just a directory of files\n",
    "    - create two copies of this directory\n"
   ]
  },
  {
   "cell_type": "markdown",
   "id": "13ba8eb7",
   "metadata": {},
   "source": [
    "## Virtual Environments: A Solution to Version Conflicts\n",
    "\n",
    "  - **Purpose:**\n",
    "    - Perform the same steps efficiently across platforms.\n",
    "    - Create a copy of the Python installation for isolated development.\n",
    "\n",
    "  - **Activation/Deactivation Scripts:**\n",
    "    - For Unix/Mac:\n",
    "      ```bash\n",
    "      python3.9 -m venv my_env\n",
    "      source my_env/bin/activate\n",
    "      ```\n",
    "\n",
    "    - For Windows:\n",
    "      ```bash\n",
    "      python -m venv my_env\n",
    "      .\\my_env\\Scripts\\activate\n",
    "      ```\n",
    "\n",
    "    - Deactivation:\n",
    "      ```bash\n",
    "      deactivate\n",
    "      ```\n",
    "\n",
    "  - **Efficiency Note:**\n",
    "    - Unix/Mac: Efficiently uses symlinks.\n",
    "    - Windows: Makes actual copies of files, slightly less efficient.\n",
    "\n",
    "  - **Version Conflict Resolution:**\n",
    "    - Provides a solution to conflicts between different project dependencies.\n",
    "\n"
   ]
  },
  {
   "cell_type": "markdown",
   "id": "0192ec6d",
   "metadata": {},
   "source": [
    "## `pip` : Package Installer for Python\n",
    "\n",
    "  - **Process:**\n",
    "    - Requires copying files into the Python installation directory.\n",
    "    - Can be done manually, but tedious.\n",
    "    - Instead, use `pip` - a package manager installed alongside Python.\n",
    "\n",
    "  - **Usage:**\n",
    "    - Easily install, update, and remove packages with `pip`.\n",
    "\n",
    "  - **Python Package Index (PyPI):**\n",
    "    - [PyPI](https://pypi.org): Official 3rd party repository for Python.\n",
    "    - Repository hosts over 200,000 Python packages.\n",
    "\n",
    "  - **Commands:**\n",
    "    - Install a package:\n",
    "      ```bash\n",
    "      pip install package_name\n",
    "      ```\n",
    "\n",
    "    - Update a package:\n",
    "      ```bash\n",
    "      pip install --upgrade package_name\n",
    "      ```\n",
    "\n",
    "    - Remove a package:\n",
    "      ```bash\n",
    "      pip uninstall package_name\n",
    "      ```\n",
    "\n"
   ]
  },
  {
   "cell_type": "markdown",
   "id": "a2340520-ca72-4707-bc4a-79d9e1495075",
   "metadata": {},
   "source": [
    "## Virtual Environment and Package Installs for the course\n",
    "\n",
    "Make sure that you have Python 3.8+ already properly installed on your machine.\n",
    "\n",
    "I will be using `python3.12` when running Python\n",
    "\n",
    "You should choose some base folder (created in previous step) where you will:\n",
    "- Save the course materials\n",
    "- Create your virtual environment(s)\n",
    "- Save your Python code\n",
    "\n",
    "Let's say the path to this directory is `<my_root>`.\n",
    "\n",
    "\n",
    "## Package Installations\n",
    "\n",
    "I decided to name my virtual environment `venv`. You can choose another name if you prefer.\n",
    "\n",
    "We can use the same virtual environment for the entire course, so only need to do the following steps once.\n",
    "\n",
    "1. Open a command prompt/terminal, and make sure to switch to the `<my_root>` directory.\n",
    "\n",
    "2. Create the new virtual environment (In below example Python 3.9 is used, but you can choose version of your choice):\n",
    "    - Mac/Linux: `python3.11 -m venv venv`\n",
    "    - Windows: `py -3.12 -m venv venv`\n",
    "\n",
    "3. Activate the new environment:\n",
    "    - Mac/Linux: `source venv/bin/activate`\n",
    "    - Windows (Command Prompt) : `venv\\Scripts\\activate.bat`\n",
    "\n",
    "4. In the shell (command prompt) where you just activated your environment, run the package installer with the specific package name (and optionally version):\n",
    "    ```\n",
    "    pip install jupyterlab\n",
    "    ```\n",
    "\n",
    "   That's it! Once `pip` has finished running, your virtual environment is ready to be used. \n",
    "   You only need to do this once, unless you delete the virtual environment, in which case you just follow the same steps again.\n",
    "\n",
    "   The next time you want to use this environment, you just need to activate it.\n",
    "\n",
    "   If you want to see what packages have been installed in your environment, use:\n",
    "    ```\n",
    "    pip freeze\n",
    "    ```\n",
    "\n",
    "   But be careful, this will list not just the packages you installed but also additional packages that were required by the packages you installed (so `pip` installs both the package you specify and the required dependencies for that package).\n",
    "\n"
   ]
  },
  {
   "cell_type": "markdown",
   "id": "fe18d738",
   "metadata": {},
   "source": [
    "# Running Jupyter Lab\n",
    "\n",
    "**From a command prompt:**\n",
    "1. Navigate to your project root folder.\n",
    "2. Activate your virtual environment.\n",
    "    - If JupyterLab is not installed, Install it with pip: `pip install jupyterlab`\n",
    "3. Launch JupyterLab with: `jupyter lab`\n",
    "4. If a web browser does not automatically open up, find the URL in the command prompt window (output when Jupyter starts up), and paste that URL into your browser.\n",
    "\n",
    "You can create Jupyter notebooks anywhere in your project folder - it does not have to be in the root of your project folder. You can create sub-folders and organize your notebooks however you want - just like you would organize Excel or Word documents.\n",
    "\n",
    "## Keyboard Shortcuts\n",
    "\n",
    "- Execute a cell: Shift+Enter\n",
    "- Select current cell: Esc (or click on cell margin)\n",
    "- Delete selected cell: DD (type D twice in succession)\n",
    "- Change selected cell to Markup: M\n",
    "- Change selected cell to Code: Y\n",
    "- Save: S\n",
    "- Insert cell above currently selected cell: B\n",
    "- Insert cell after currently selected cell: A\n",
    "\n",
    "Don't forget to re-run your Jupyter notebook when you re-load it later - this will re-execute all the cells (but it will stop processing the cells if it encounters an error).\n",
    "\n",
    "**Project Jupyter documentation:** [https://docs.jupyter.org/en/latest/](https://docs.jupyter.org/en/latest/)\n"
   ]
  },
  {
   "cell_type": "markdown",
   "id": "82635c9d",
   "metadata": {},
   "source": []
  },
  {
   "cell_type": "markdown",
   "id": "cda93ac4",
   "metadata": {},
   "source": [
    "## How is Python Code executed?\n",
    "![](../static/python_interpreter.png)"
   ]
  },
  {
   "cell_type": "code",
   "execution_count": null,
   "id": "5f293ccf-b80d-4216-a736-5fe8f8ab51ad",
   "metadata": {},
   "outputs": [],
   "source": []
  },
  {
   "cell_type": "code",
   "execution_count": null,
   "id": "9792d64b-050e-4980-aaca-595aae0f2810",
   "metadata": {},
   "outputs": [],
   "source": []
  },
  {
   "cell_type": "markdown",
   "id": "c182b136",
   "metadata": {},
   "source": [
    "## Python Execution Modes: Interactive vs. Script\n",
    "\n",
    "- Python is a Interpreter\n",
    "    - Reads a chunk of code (your program), compiles, and runs it.\n",
    "    - Output is sent to the console.\n",
    "\n",
    "- Python can do this in two ways\n",
    "  - **Interactive Mode:**\n",
    "    - Type Python code lines/blocks and execute immediately.\n",
    "    - Output is immediately displayed.\n",
    "    - Utilizes REPL (Read-Eval-Print-Loop).\n",
    "    - non graphical interface\n",
    "      - perfect when working on GUI-less servers\n",
    "      - little tedious to use when you are just trying things out\n",
    "\n",
    "  - **Script Mode:**\n",
    "    - Write all code in files first.\n",
    "    - Execute the code using the command line.\n",
    "\n",
    "    - Ideal for:\n",
    "      - Running the same program repeatedly.\n",
    "      - Providing better structure.\n",
    "      - Developing complex applications (e.g., web servers, prediction servers, libraries, etc.).\n",
    "\n",
    "\n",
    "  - **Usage:**\n",
    "    - Interactive Mode:\n",
    "      ```python\n",
    "      python\n",
    "      ```\n",
    "\n",
    "    - Script Mode:\n",
    "      ```python\n",
    "      python script_name.py\n",
    "      ```\n",
    "\n",
    "  - **Note:**\n",
    "    - REPL: Read, evaluate, print, loop.\n",
    "\n"
   ]
  },
  {
   "cell_type": "markdown",
   "id": "231cc8d4",
   "metadata": {},
   "source": [
    "### Jupyter Notebooks\n",
    "  - Browser-based REPL (requires installation with pip).\n",
    "  - More user-friendly than the command line.\n",
    "  - Allows saving projects into files (notebooks).\n",
    "  - Typically uses .ipynb extension."
   ]
  },
  {
   "cell_type": "markdown",
   "id": "bd51d989",
   "metadata": {},
   "source": [
    "## IDE (Integrated Development Environment):\n",
    "  - A text editor with additional features for easy code execution, debugging, and more.\n",
    "  - Runs code using the same command-line approach for scripts.\n",
    "\n",
    "- Popular IDEs/Editors:\n",
    "  - PyCharm\n",
    "  - VSCode (personal choice)\n",
    "  - Atom\n",
    "  - Sublime Text 3 \n",
    "  - many more..."
   ]
  },
  {
   "cell_type": "markdown",
   "id": "895f0fc7",
   "metadata": {},
   "source": []
  },
  {
   "cell_type": "markdown",
   "id": "2e265ca8",
   "metadata": {},
   "source": [
    "# DEMO - INTERACTIVE MODE / SCRIPT MODE"
   ]
  },
  {
   "cell_type": "code",
   "execution_count": 6,
   "id": "bf5fee6b-2a0f-4775-a61c-e1f36d1cb41d",
   "metadata": {},
   "outputs": [
    {
     "name": "stdout",
     "output_type": "stream",
     "text": [
      "hello world\n"
     ]
    }
   ],
   "source": [
    "print(\"hello world\")"
   ]
  },
  {
   "cell_type": "code",
   "execution_count": null,
   "id": "d4472aeb-91ce-4456-9ec2-c90778c170d0",
   "metadata": {},
   "outputs": [],
   "source": [
    "pip list"
   ]
  },
  {
   "cell_type": "code",
   "execution_count": null,
   "id": "2da70d93-5b81-42b0-aa48-235ddb24c75a",
   "metadata": {},
   "outputs": [],
   "source": []
  },
  {
   "cell_type": "code",
   "execution_count": null,
   "id": "cdf65846-d9ae-468d-b9da-65550d09e86f",
   "metadata": {},
   "outputs": [],
   "source": []
  }
 ],
 "metadata": {
  "kernelspec": {
   "display_name": "Python 3 (ipykernel)",
   "language": "python",
   "name": "python3"
  },
  "language_info": {
   "codemirror_mode": {
    "name": "ipython",
    "version": 3
   },
   "file_extension": ".py",
   "mimetype": "text/x-python",
   "name": "python",
   "nbconvert_exporter": "python",
   "pygments_lexer": "ipython3",
   "version": "3.12.2"
  }
 },
 "nbformat": 4,
 "nbformat_minor": 5
}
