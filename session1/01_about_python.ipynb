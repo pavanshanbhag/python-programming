{
 "cells": [
  {
   "cell_type": "markdown",
   "metadata": {},
   "source": [
    "## History\n",
    "\n",
    "- Created by Guido van Rossum in 1989 while working at CWI (National Research Institute for Mathematics and Computer Science, Netherlands).\n",
    "- Became a community-driven effort, overseen by Guido.\n",
    "- Guido became the BDFL (Benevolent Dictator For Life) and stepped down in 2018.\n",
    "- Many developers (\"core\" developers) have contributed over the years.\n",
    "\n",
    "- Named after the British comedy group `Monty Python`\n",
    "- Still actively developed today.\n",
    "\n",
    "- Python 2.0 released in 2000, with the last release being 2.7 (end of life April 2020).\n",
    "- Python 3.0 released in 2008, and the latest release is 3.12.2 as of Feb 2024.\n"
   ]
  },
  {
   "cell_type": "code",
   "execution_count": null,
   "metadata": {},
   "outputs": [],
   "source": []
  },
  {
   "cell_type": "code",
   "execution_count": null,
   "metadata": {},
   "outputs": [],
   "source": []
  },
  {
   "cell_type": "code",
   "execution_count": null,
   "metadata": {},
   "outputs": [],
   "source": []
  },
  {
   "cell_type": "markdown",
   "metadata": {},
   "source": [
    "## Key Features Of Python\n",
    "- Easy To Learn and Readable Language\n",
    "- Open Source And Free\n",
    "- Interpreted Language\n",
    "- High-Level Language\n",
    "- Portable\n",
    "- Object-Oriented Programming Language\n",
    "- Dynamically Typed Language\n",
    "- Large Standard Library\n",
    "- Large Community Support"
   ]
  },
  {
   "cell_type": "code",
   "execution_count": null,
   "metadata": {},
   "outputs": [],
   "source": []
  },
  {
   "cell_type": "code",
   "execution_count": null,
   "metadata": {},
   "outputs": [],
   "source": []
  },
  {
   "cell_type": "code",
   "execution_count": null,
   "metadata": {},
   "outputs": [],
   "source": []
  },
  {
   "cell_type": "code",
   "execution_count": null,
   "metadata": {},
   "outputs": [],
   "source": []
  },
  {
   "cell_type": "code",
   "execution_count": null,
   "metadata": {},
   "outputs": [],
   "source": []
  },
  {
   "cell_type": "markdown",
   "metadata": {},
   "source": [
    "## What is Python?\n",
    "\n",
    "- Python is a language, not an application.\n",
    "- There are many implementations of Python:\n",
    "    - CPython\n",
    "    - PyPy\n",
    "    - Even compilers that \"translate\" Python code to other languages:\n",
    "        - IronPython (.NET)\n",
    "        - Jython (Java)\n",
    "        - Cython (C/C++)\n",
    "\n",
    "- The \"reference\" Python implementation is CPython.\n"
   ]
  },
  {
   "cell_type": "markdown",
   "metadata": {},
   "source": []
  },
  {
   "cell_type": "code",
   "execution_count": null,
   "metadata": {},
   "outputs": [],
   "source": []
  },
  {
   "cell_type": "markdown",
   "metadata": {},
   "source": [
    "## CPython \n",
    "\n",
    "- CPython is the reference implementation.\n",
    "- Official website: [https://www.python.org](https://www.python.org).\n",
    "- Most widely used distribution of Python.\n",
    "- Open source and written in C.\n",
    "- Includes the standard library.\n",
    "  - GitHub repository: [https://github.com/python/cpython](https://github.com/python/cpython).\n",
    "- Additional Functionality:\n",
    "  - A collection of additional functionality that goes beyond just the Python language.\n",
    "  - Written in C and Python.\n",
    "- This implementation of Python and the standard library is the \"official\" implementation.\n",
    "- Supports many platforms: Linux, Windows, Mac OS, etc.\n"
   ]
  },
  {
   "cell_type": "markdown",
   "metadata": {},
   "source": []
  },
  {
   "cell_type": "markdown",
   "metadata": {},
   "source": [
    "# CPython Installation\n",
    "\n",
    "- CPython is essentially a bunch of files located in a directory on your computer.\n",
    "- One of those files is an executable used to run Python code or an interactive shell.\n",
    "- The entire standard library is also included in these files.\n",
    "\n",
    "- To \"install\" CPython, you simply copy these files into a directory.\n",
    "\n",
    "- It's possible to have `multiple versions` of CPython on the same computer.\n",
    "  - Just install the files in different directories.\n",
    "  - Call the desired Python executable.\n"
   ]
  },
  {
   "cell_type": "markdown",
   "metadata": {},
   "source": []
  },
  {
   "cell_type": "markdown",
   "metadata": {},
   "source": [
    "# INSTALLATION"
   ]
  },
  {
   "cell_type": "markdown",
   "metadata": {},
   "source": []
  }
 ],
 "metadata": {
  "kernelspec": {
   "display_name": "Python 3 (ipykernel)",
   "language": "python",
   "name": "python3"
  },
  "language_info": {
   "codemirror_mode": {
    "name": "ipython",
    "version": 3
   },
   "file_extension": ".py",
   "mimetype": "text/x-python",
   "name": "python",
   "nbconvert_exporter": "python",
   "pygments_lexer": "ipython3",
   "version": "3.12.2"
  }
 },
 "nbformat": 4,
 "nbformat_minor": 4
}
